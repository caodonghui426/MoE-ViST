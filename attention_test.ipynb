{
 "cells": [
  {
   "cell_type": "code",
   "execution_count": null,
   "metadata": {},
   "outputs": [],
   "source": []
  },
  {
   "attachments": {},
   "cell_type": "markdown",
   "metadata": {},
   "source": [
    "import\n"
   ]
  },
  {
   "cell_type": "code",
   "execution_count": 1,
   "metadata": {},
   "outputs": [
    {
     "name": "stderr",
     "output_type": "stream",
     "text": [
      "/home/junsheng/.conda/envs/pytorch_junsheng_39/lib/python3.9/site-packages/tqdm/auto.py:22: TqdmWarning: IProgress not found. Please update jupyter and ipywidgets. See https://ipywidgets.readthedocs.io/en/stable/user_install.html\n",
      "  from .autonotebook import tqdm as notebook_tqdm\n"
     ]
    }
   ],
   "source": [
    "import torch\n",
    "import torch.nn as nn\n",
    "from vilt.modules import heads, objectives\n",
    "import vilt.modules.vision_transformer as vit\n",
    "import vilt.modules.vision_transformer as vit\n",
    "import torch.nn.functional as F\n",
    "import random\n",
    "from typing import OrderedDict\n",
    "import os\n",
    "import pandas as pd\n",
    "import numpy as np\n",
    "from vilt.transforms import pixelbert_transform\n",
    "from PIL import Image\n",
    "from torchvision import transforms\n",
    "from tqdm import tqdm\n",
    "from torch.utils.data import DataLoader\n",
    "import gc\n",
    "import torch.optim as optim\n",
    "from torch.optim import lr_scheduler\n",
    "from collections import defaultdict\n",
    "import wandb\n",
    "\n",
    "\n"
   ]
  },
  {
   "attachments": {},
   "cell_type": "markdown",
   "metadata": {},
   "source": [
    "config\n"
   ]
  },
  {
   "cell_type": "code",
   "execution_count": 2,
   "metadata": {},
   "outputs": [],
   "source": [
    "\n",
    "\n",
    "class config:\n",
    "    debug = False\n",
    "    sensor_only = False\n",
    "    crop_name = \"total\"\n",
    "\n",
    "    \n",
    "    exp_name = \"vilt\"\n",
    "    seed = 101\n",
    "    batch_size = 4096  # this is a desired batch size; pl trainer will accumulate gradients when per step batch is smaller.\n",
    "    train_batch_size = 32\n",
    "    valid_batch_size = 4\n",
    "    device = \"cpu\"\n",
    "    n_fold = 5\n",
    "\n",
    "    model_name = \"sensorViLOnlyTransformerSS\" #仅图片\n",
    "    # model_name = \"sensorOnlyViLTransformerSS\"  #仅vilt传感器\n",
    "    # model_name = \"sensorViLTransformerSS\"  #vilt图像+传感器\n",
    "    # model_name = \"DNNF1\"  #DNNF1图像+传感器\n",
    "    # model_name = \"DNNF1PictureOnly\"  #DNNF1图像\n",
    "    # model_name = \"DNNF1SensorOnly\"  #DNNF1传感器\n",
    "\n",
    "    # model_name = \"DNNF2\"  #DNNF2图像+传感器\n",
    "    # model_name = \"DNNF2PictureOnly\"  #DNNF1图像\n",
    "    # model_name = \"DNNF2SensorOnly\"  #DNNF1传感器\n",
    "    # wandb \n",
    "    # wandb_name = \"vilt|大豆|290图像加传感器\"\n",
    "    # wandb_name = \"vilt|大豆|290仅传感器\"\n",
    "    wandb_name = \"vilt|大豆|290仅图片\"\n",
    "\n",
    "    # wandb_name = \"DNNF1|大豆|290图像加传感器\"\n",
    "    # wandb_name = \"DNNF1|大豆|290仅图像\"\n",
    "    # wandb_name = \"DNNF1|大豆|290仅传感器\"\n",
    "    \n",
    "    # wandb_name = \"DNNF2|大豆|290图像加传感器\"\n",
    "    # wandb_name = \"DNNF2|大豆|290仅图像\"\n",
    "    # wandb_name = \"DNNF2|大豆|290仅传感器\"\n",
    "    \n",
    "\n",
    "    # Image setting\n",
    "    train_transform_keys = [\"pixelbert\"]\n",
    "    val_transform_keys = [\"pixelbert\"]\n",
    "    img_size = 384\n",
    "    max_image_len = -1\n",
    "    patch_size = 32\n",
    "    draw_false_image = 1\n",
    "    image_only = False\n",
    "\n",
    "    # Sensor\n",
    "    # senser_input_num = 11 # 翔冠的传感器参数\n",
    "    senser_input_num = 19 # 天航的传感器参数\n",
    "    \n",
    "    # Text Setting\n",
    "    vqav2_label_size = 3129\n",
    "    max_text_len = 40\n",
    "    tokenizer = \"bert-base-uncased\"\n",
    "    vocab_size = 30522 # vocabulary词汇数量\n",
    "    whole_word_masking = False\n",
    "    mlm_prob = 0.15\n",
    "    draw_false_text = 0\n",
    "\n",
    "    # Transformer Setting\n",
    "    vit = \"vit_base_patch32_384\"\n",
    "    hidden_size = 768  # 嵌入向量大小\n",
    "    num_heads = 12\n",
    "    num_layers = 12\n",
    "    mlp_ratio = 4\n",
    "    drop_rate = 0.1\n",
    "\n",
    "    # Optimizer Setting\n",
    "    optim_type = \"adamw\"\n",
    "    learning_rate = 1e-3 #0.0015#2e-3 #\n",
    "    weight_decay = 1e-4 # 0.01 ->1e-4\n",
    "    decay_power = 1\n",
    "    max_epoch = 50\n",
    "    max_steps = 25000\n",
    "    warmup_steps = 2500\n",
    "    end_lr = 0\n",
    "    lr_mult = 1  # multiply lr for downstream heads\n",
    "    # T_max = 8000/train_batch_size*max_epoch \n",
    "    T_max = 4632/train_batch_size*max_epoch \n",
    "\n",
    "    # Downstream Setting\n",
    "    get_recall_metric = False\n",
    "\n",
    "\n",
    "    # below params varies with the environment\n",
    "    data_root = \"\"\n",
    "    log_dir = \"result\"\n",
    "    per_gpu_batchsize = 0  # you should define this manually with per_gpu_batch_size=#\n",
    "    num_gpus = 1\n",
    "    num_nodes = 1\n",
    "    load_path = \"weights/vilt_200k_mlm_itm.ckpt\"\n",
    "    # load_path = \"save_model_dict.pt\"\n",
    "    num_workers = 1\n",
    "    precision = 16\n",
    "\n",
    "# config = vars(config)\n",
    "# config = dict(config)\n",
    "config\n",
    "\n",
    "if config.debug:\n",
    "    config.max_epoch = 5"
   ]
  },
  {
   "attachments": {},
   "cell_type": "markdown",
   "metadata": {},
   "source": [
    "model"
   ]
  },
  {
   "cell_type": "code",
   "execution_count": 3,
   "metadata": {},
   "outputs": [],
   "source": [
    "l1 = nn.Linear(1,145) \n",
    "l2 = nn.Linear(19,768)\n",
    "z = torch.rand([2,1,19])\n",
    "z = l2(z) #2,1,768\n",
    "z = torch.transpose(z,1,2)\n",
    "z = l1(z)\n",
    "z=torch.transpose(z,1,2)"
   ]
  },
  {
   "cell_type": "code",
   "execution_count": 4,
   "metadata": {},
   "outputs": [],
   "source": [
    "class ViST2(nn.Module):\n",
    "\n",
    "    def __init__(self,sensor_class_n,output_class_n):\n",
    "        super().__init__()\n",
    "        self.sensor_linear = nn.Linear(sensor_class_n,config.hidden_size) \n",
    "        self.sensor_linear2 = nn.Linear(1,145)\n",
    "\n",
    "        self.token_type_embeddings = nn.Embedding(2, config.hidden_size)\n",
    "        self.token_type_embeddings.apply(objectives.init_weights)\n",
    "\n",
    "        # self.transformer = getattr(vit, config.vit)(\n",
    "        #         pretrained=False, config=vars(config)\n",
    "        #     )\n",
    "        self.transformer = vit.VisionTransformerForViST(img_size=config.img_size,patch_size=config.patch_size,embed_dim=config.hidden_size,num_heads=config.num_heads,mlp_ratio=config.mlp_ratio,qkv_bias=False,qk_scale=None)\n",
    "        self.transformer_self_attn = getattr(vit, config.vit)(\n",
    "                pretrained=True, config=vars(config)\n",
    "            )\n",
    "       \n",
    "        self.dense = nn.Linear(config.hidden_size, config.hidden_size)\n",
    "        self.activation = nn.Tanh()\n",
    "\n",
    "\n",
    "        self.pooler = heads.Pooler(config.hidden_size)\n",
    "\n",
    "        # self.pooler.apply(objectives.init_weights)\n",
    "        self.classifier = nn.Linear(config.hidden_size,output_class_n)\n",
    "\n",
    "        hs = config.hidden_size\n",
    "\n",
    "\n",
    "    def infer(\n",
    "        self,\n",
    "        batch,\n",
    "        mask_image=False,\n",
    "        image_token_type_idx=1,\n",
    "        image_embeds=None,\n",
    "        image_masks=None,\n",
    "    ):\n",
    "        sensor = batch['sensor'].to(config.device)\n",
    "        sensor_embeds = self.sensor_linear(sensor) # input[1,1,12]  output[1,1,768]\n",
    "        sensor_embeds = torch.transpose(sensor_embeds,1,2)\n",
    "        sensor_embeds = self.sensor_linear2(sensor_embeds)\n",
    "        sensor_embeds = torch.transpose(sensor_embeds,1,2)\n",
    "\n",
    "        # 传感器数据self attention\n",
    "        sensor_embeds_self = sensor_embeds\n",
    "        x = sensor_embeds_self.to(config.device) # torch.Size([1, 1, 768])\n",
    "        for i, blk in enumerate(self.transformer_self_attn.blocks):\n",
    "            blk = blk.to(config.device)\n",
    "            x, _attn = blk(x, mask=None)\n",
    "        output_sensor = self.transformer_self_attn.norm(x)\n",
    "        \n",
    "\n",
    "        \n",
    "\n",
    "\n",
    "        if image_embeds is None and image_masks is None:\n",
    "            img = batch[\"image\"].to(config.device)\n",
    "            (\n",
    "                image_embeds, # torch.Size([1, 217, 768])\n",
    "                image_masks, # torch.Size([1, 217])\n",
    "                patch_index,\n",
    "                image_labels,\n",
    "            ) = self.transformer.visual_embed(\n",
    "                img,\n",
    "                max_image_len=config.max_image_len,\n",
    "                mask_it=mask_image,\n",
    "            )\n",
    "        else:\n",
    "            patch_index, image_labels = (\n",
    "                None,\n",
    "                None,\n",
    "            )\n",
    "        # 用embedding对数据输入预处理，降低维度\n",
    "        image_embeds = image_embeds + self.token_type_embeddings(\n",
    "                torch.full_like(image_masks, image_token_type_idx)\n",
    "            )\n",
    "        \n",
    "        # 图像 self-attention\n",
    "        image_embeds_self = image_embeds\n",
    "        x = image_embeds_self.to(config.device) # torch.Size([1, 1, 768])\n",
    "        for i, blk in enumerate(self.transformer_self_attn.blocks):\n",
    "            blk = blk.to(config.device)\n",
    "            x, _attn = blk(x, mask=None)\n",
    "        output_image = self.transformer_self_attn.norm(x)\n",
    "\n",
    "        # cross-attention\n",
    "        x_image = image_embeds # torch.Size([2, 145, 768])\n",
    "        x_sensor = sensor_embeds # torch.Size([2, 145, 768])\n",
    "        for i, blk in enumerate(self.transformer.blocks): \n",
    "            blk = blk.to(config.device)\n",
    "            x_image,x_sensor, _attn_image,_attn_sensor = blk(x_image, x_sensor) # co_masks = torch.Size([1, 211])\n",
    "\n",
    "        x = torch.cat([x_image, x_sensor,output_image,output_sensor], dim=1)\n",
    "        x = self.transformer.norm(x) # torch.Size([1, 240, 768])\n",
    "\n",
    "        cls_feats = self.pooler(x) # torch.Size([1, 768])\n",
    "        # cls_feats = self.dense(x)\n",
    "        # cls_feats = self.activation(cls_feats)\n",
    "        cls_output = self.classifier(cls_feats)\n",
    "        # m = nn.Softmax(dim=1)\n",
    "        \n",
    "        m = nn.Sigmoid()\n",
    "        cls_output = m(cls_output)\n",
    "        \n",
    "        \n",
    "        ret = {\n",
    "           \"sensor_feats\":x_image,\n",
    "            \"image_feats\": x_sensor,\n",
    "            \"cls_feats\": cls_feats, # class features\n",
    "            \"cls_output\":cls_output,\n",
    "        }\n",
    "\n",
    "        return ret\n",
    "\n",
    "    def forward(self, batch):\n",
    "        ret = dict()\n",
    "        \n",
    "        ret.update(self.infer(batch))\n",
    "        return ret"
   ]
  },
  {
   "attachments": {},
   "cell_type": "markdown",
   "metadata": {},
   "source": [
    "test data"
   ]
  },
  {
   "cell_type": "code",
   "execution_count": 5,
   "metadata": {},
   "outputs": [
    {
     "name": "stderr",
     "output_type": "stream",
     "text": [
      "No pretrained weights exist or were found for this model. Using random initialization.\n"
     ]
    }
   ],
   "source": [
    "model = ViST2(sensor_class_n= config.senser_input_num,output_class_n = 1)"
   ]
  },
  {
   "cell_type": "code",
   "execution_count": 6,
   "metadata": {},
   "outputs": [
    {
     "name": "stdout",
     "output_type": "stream",
     "text": [
      "torch.Size([2, 1, 19])\n"
     ]
    },
    {
     "name": "stderr",
     "output_type": "stream",
     "text": [
      "/home/junsheng/.conda/envs/pytorch_junsheng_39/lib/python3.9/site-packages/torch/functional.py:478: UserWarning: torch.meshgrid: in an upcoming release, it will be required to pass the indexing argument. (Triggered internally at  ../aten/src/ATen/native/TensorShape.cpp:2894.)\n",
      "  return _VF.meshgrid(tensors, **kwargs)  # type: ignore[attr-defined]\n"
     ]
    },
    {
     "data": {
      "text/plain": [
       "{'sensor_feats': tensor([[[-1.3737, -0.8886, -1.6940,  ...,  1.8876, -1.5977, -1.2388],\n",
       "          [ 0.5077, -1.9718, -1.6221,  ...,  3.6640, -0.0219, -1.0161],\n",
       "          [-4.5835, -3.4044, -1.9784,  ...,  0.0241,  1.6752, -1.3843],\n",
       "          ...,\n",
       "          [-3.5440, -1.3881, -0.1745,  ..., -0.2802, -0.7148, -1.1370],\n",
       "          [-2.5808, -1.3494, -0.2756,  ..., -2.7218,  0.9882, -1.3181],\n",
       "          [-0.3579, -1.2111, -1.4228,  ..., -2.3370,  0.0125,  0.5169]],\n",
       " \n",
       "         [[-1.2677, -1.0065, -1.7081,  ...,  2.1846, -1.5690, -1.1455],\n",
       "          [-0.5395,  1.9647, -0.7746,  ...,  0.4248, -2.5151, -0.5081],\n",
       "          [-2.8044, -0.5045, -0.3696,  ...,  1.7925, -1.0259,  0.5150],\n",
       "          ...,\n",
       "          [-2.7584, -2.3551, -1.1005,  ..., -0.9619, -0.5574,  1.0635],\n",
       "          [ 3.1427,  1.0763, -0.3531,  ...,  2.2117, -0.2064, -0.5435],\n",
       "          [ 0.8889, -1.5206,  0.0378,  ...,  0.3270,  1.6310, -0.7530]]],\n",
       "        grad_fn=<AddBackward0>),\n",
       " 'image_feats': tensor([[[ 0.6720, -1.1725,  0.7552,  ..., -1.0376,  2.5512, -2.1504],\n",
       "          [ 0.8297, -1.2519,  0.6450,  ..., -0.9752,  2.3025, -2.4155],\n",
       "          [-0.2080,  0.1032,  0.3982,  ..., -1.9170,  2.4733, -1.9641],\n",
       "          ...,\n",
       "          [ 1.2723,  1.4241,  0.7691,  ..., -0.9266, -0.2324,  1.2605],\n",
       "          [-0.3004, -0.1924,  1.1925,  ..., -1.3688,  4.0229, -0.7149],\n",
       "          [-0.1996, -0.5319,  1.1623,  ..., -1.2944,  4.0478, -0.7910]],\n",
       " \n",
       "         [[-1.6590, -1.1053,  0.4210,  ..., -0.8225,  3.2334, -5.2274],\n",
       "          [-1.6216, -1.0591,  0.3437,  ..., -1.1513,  3.0022, -5.4000],\n",
       "          [-2.5051, -0.4000,  0.0149,  ..., -0.3069,  5.2194, -5.2863],\n",
       "          ...,\n",
       "          [ 1.0254,  1.2194,  0.4050,  ..., -0.9019, -0.1156,  0.0376],\n",
       "          [-1.7985, -0.7657, -0.4066,  ..., -0.7198,  5.0135, -2.7115],\n",
       "          [-1.8512, -0.8960, -0.1907,  ..., -0.8319,  4.5733, -3.2085]]],\n",
       "        grad_fn=<AddBackward0>),\n",
       " 'cls_feats': tensor([[-0.8555, -0.2054, -0.0145,  ...,  0.5395,  0.4694,  0.4724],\n",
       "         [-0.8546, -0.2495, -0.0402,  ...,  0.5659,  0.5693,  0.4836]],\n",
       "        grad_fn=<TanhBackward0>),\n",
       " 'cls_output': tensor([[0.4447],\n",
       "         [0.4494]], grad_fn=<SigmoidBackward0>)}"
      ]
     },
     "execution_count": 6,
     "metadata": {},
     "output_type": "execute_result"
    }
   ],
   "source": [
    "sensor = torch.rand([2,1,19])\n",
    "# sensor = torch.ones(config.senser_input_num)\n",
    "\n",
    "# sensor =  torch.tensor(sensor).unsqueeze(0).unsqueeze(0) # torch.Size([1, 1, 3])\n",
    "print(sensor.shape)\n",
    "batch = {}\n",
    "batch['sensor'] = sensor\n",
    "batch['image'] = torch.randn([2,3,384,384])\n",
    "model(batch)"
   ]
  },
  {
   "cell_type": "code",
   "execution_count": 7,
   "metadata": {},
   "outputs": [
    {
     "data": {
      "text/plain": [
       "torch.Size([2, 12, 146, 64])"
      ]
     },
     "execution_count": 7,
     "metadata": {},
     "output_type": "execute_result"
    }
   ],
   "source": [
    "attn = torch.randn([2,12,146,146])\n",
    "v = torch.randn([2,12,146,64])\n",
    "(attn @ v).shape"
   ]
  },
  {
   "attachments": {},
   "cell_type": "markdown",
   "metadata": {},
   "source": [
    "test for attention"
   ]
  },
  {
   "cell_type": "code",
   "execution_count": 8,
   "metadata": {},
   "outputs": [],
   "source": [
    "model_attn = vit.AttentionForViST(dim=768,num_heads=12,qkv_bias=False,qk_scale=None,attn_drop=0.0,proj_drop=0.0)"
   ]
  },
  {
   "cell_type": "code",
   "execution_count": 9,
   "metadata": {},
   "outputs": [],
   "source": [
    "image_input = torch.randn([2,145,768])\n",
    "sensor_input = torch.randn([2,145,768])"
   ]
  },
  {
   "cell_type": "code",
   "execution_count": 10,
   "metadata": {},
   "outputs": [],
   "source": [
    "x_image,x_sensor, attn_image,attn_sensor = model_attn(image_input,sensor_input)"
   ]
  },
  {
   "cell_type": "code",
   "execution_count": 11,
   "metadata": {},
   "outputs": [],
   "source": [
    "model_vist = vit.VisionTransformerForViST(img_size=config.img_size,patch_size=config.patch_size,embed_dim=config.hidden_size,num_heads=config.num_heads,mlp_ratio=config.mlp_ratio,qkv_bias=False,qk_scale=None)\n"
   ]
  }
 ],
 "metadata": {
  "kernelspec": {
   "display_name": "pytorch_junsheng_39",
   "language": "python",
   "name": "python3"
  },
  "language_info": {
   "codemirror_mode": {
    "name": "ipython",
    "version": 3
   },
   "file_extension": ".py",
   "mimetype": "text/x-python",
   "name": "python",
   "nbconvert_exporter": "python",
   "pygments_lexer": "ipython3",
   "version": "3.9.12"
  },
  "orig_nbformat": 4,
  "vscode": {
   "interpreter": {
    "hash": "29fd19f11c6b89e267402bb3227bc1208f7e2c9719aa03eba13baf7684fe5867"
   }
  }
 },
 "nbformat": 4,
 "nbformat_minor": 2
}
