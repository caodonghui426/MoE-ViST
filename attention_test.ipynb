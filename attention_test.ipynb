{
 "cells": [
  {
   "cell_type": "code",
   "execution_count": null,
   "metadata": {},
   "outputs": [],
   "source": []
  },
  {
   "attachments": {},
   "cell_type": "markdown",
   "metadata": {},
   "source": [
    "import\n"
   ]
  },
  {
   "cell_type": "code",
   "execution_count": 1,
   "metadata": {},
   "outputs": [],
   "source": [
    "import torch\n",
    "import torch.nn as nn\n",
    "from vilt.modules import heads, objectives\n",
    "import vilt.modules.vision_transformer as vit\n",
    "import vilt.modules.vision_transformer as vit\n",
    "import torch.nn.functional as F\n",
    "import random\n",
    "from typing import OrderedDict\n",
    "import os\n",
    "import pandas as pd\n",
    "import numpy as np\n",
    "from vilt.transforms import pixelbert_transform\n",
    "from PIL import Image\n",
    "from torchvision import transforms\n",
    "from tqdm import tqdm\n",
    "from torch.utils.data import DataLoader\n",
    "import gc\n",
    "import torch.optim as optim\n",
    "from torch.optim import lr_scheduler\n",
    "from collections import defaultdict\n",
    "import wandb\n",
    "\n",
    "\n"
   ]
  },
  {
   "attachments": {},
   "cell_type": "markdown",
   "metadata": {},
   "source": [
    "config\n"
   ]
  },
  {
   "cell_type": "code",
   "execution_count": 2,
   "metadata": {},
   "outputs": [],
   "source": [
    "\n",
    "\n",
    "class config:\n",
    "    debug = False\n",
    "    sensor_only = False\n",
    "    crop_name = \"total\"\n",
    "\n",
    "    \n",
    "    exp_name = \"vilt\"\n",
    "    seed = 101\n",
    "    batch_size = 4096  # this is a desired batch size; pl trainer will accumulate gradients when per step batch is smaller.\n",
    "    train_batch_size = 32\n",
    "    valid_batch_size = 4\n",
    "    device = \"cpu\"\n",
    "    n_fold = 5\n",
    "\n",
    "    model_name = \"sensorViLOnlyTransformerSS\" #仅图片\n",
    "    # model_name = \"sensorOnlyViLTransformerSS\"  #仅vilt传感器\n",
    "    # model_name = \"sensorViLTransformerSS\"  #vilt图像+传感器\n",
    "    # model_name = \"DNNF1\"  #DNNF1图像+传感器\n",
    "    # model_name = \"DNNF1PictureOnly\"  #DNNF1图像\n",
    "    # model_name = \"DNNF1SensorOnly\"  #DNNF1传感器\n",
    "\n",
    "    # model_name = \"DNNF2\"  #DNNF2图像+传感器\n",
    "    # model_name = \"DNNF2PictureOnly\"  #DNNF1图像\n",
    "    # model_name = \"DNNF2SensorOnly\"  #DNNF1传感器\n",
    "    # wandb \n",
    "    # wandb_name = \"vilt|大豆|290图像加传感器\"\n",
    "    # wandb_name = \"vilt|大豆|290仅传感器\"\n",
    "    wandb_name = \"vilt|大豆|290仅图片\"\n",
    "\n",
    "    # wandb_name = \"DNNF1|大豆|290图像加传感器\"\n",
    "    # wandb_name = \"DNNF1|大豆|290仅图像\"\n",
    "    # wandb_name = \"DNNF1|大豆|290仅传感器\"\n",
    "    \n",
    "    # wandb_name = \"DNNF2|大豆|290图像加传感器\"\n",
    "    # wandb_name = \"DNNF2|大豆|290仅图像\"\n",
    "    # wandb_name = \"DNNF2|大豆|290仅传感器\"\n",
    "    \n",
    "\n",
    "    # Image setting\n",
    "    train_transform_keys = [\"pixelbert\"]\n",
    "    val_transform_keys = [\"pixelbert\"]\n",
    "    img_size = 384\n",
    "    max_image_len = -1\n",
    "    patch_size = 32\n",
    "    draw_false_image = 1\n",
    "    image_only = False\n",
    "\n",
    "    # Sensor\n",
    "    # senser_input_num = 11 # 翔冠的传感器参数\n",
    "    senser_input_num = 19 # 天航的传感器参数\n",
    "    \n",
    "    # Text Setting\n",
    "    vqav2_label_size = 3129\n",
    "    max_text_len = 40\n",
    "    tokenizer = \"bert-base-uncased\"\n",
    "    vocab_size = 30522 # vocabulary词汇数量\n",
    "    whole_word_masking = False\n",
    "    mlm_prob = 0.15\n",
    "    draw_false_text = 0\n",
    "\n",
    "    # Transformer Setting\n",
    "    vit = \"vit_base_patch32_384\"\n",
    "    hidden_size = 768  # 嵌入向量大小\n",
    "    num_heads = 12\n",
    "    num_layers = 12\n",
    "    mlp_ratio = 4\n",
    "    drop_rate = 0.1\n",
    "\n",
    "    # Optimizer Setting\n",
    "    optim_type = \"adamw\"\n",
    "    learning_rate = 1e-3 #0.0015#2e-3 #\n",
    "    weight_decay = 1e-4 # 0.01 ->1e-4\n",
    "    decay_power = 1\n",
    "    max_epoch = 50\n",
    "    max_steps = 25000\n",
    "    warmup_steps = 2500\n",
    "    end_lr = 0\n",
    "    lr_mult = 1  # multiply lr for downstream heads\n",
    "    # T_max = 8000/train_batch_size*max_epoch \n",
    "    T_max = 4632/train_batch_size*max_epoch \n",
    "\n",
    "    # Downstream Setting\n",
    "    get_recall_metric = False\n",
    "\n",
    "\n",
    "    # below params varies with the environment\n",
    "    data_root = \"\"\n",
    "    log_dir = \"result\"\n",
    "    per_gpu_batchsize = 0  # you should define this manually with per_gpu_batch_size=#\n",
    "    num_gpus = 1\n",
    "    num_nodes = 1\n",
    "    load_path = \"weights/vilt_200k_mlm_itm.ckpt\"\n",
    "    # load_path = \"save_model_dict.pt\"\n",
    "    num_workers = 1\n",
    "    precision = 16\n",
    "\n",
    "# config = vars(config)\n",
    "# config = dict(config)\n",
    "config\n",
    "\n",
    "if config.debug:\n",
    "    config.max_epoch = 5"
   ]
  },
  {
   "attachments": {},
   "cell_type": "markdown",
   "metadata": {},
   "source": [
    "model"
   ]
  },
  {
   "cell_type": "code",
   "execution_count": 3,
   "metadata": {},
   "outputs": [],
   "source": [
    "l1 = nn.Linear(1,145) \n",
    "l2 = nn.Linear(19,768)\n",
    "z = torch.rand([2,1,19])\n",
    "z = l2(z) #2,1,768\n",
    "z = torch.transpose(z,1,2)\n",
    "z = l1(z)\n",
    "z=torch.transpose(z,1,2)"
   ]
  },
  {
   "cell_type": "code",
   "execution_count": 4,
   "metadata": {},
   "outputs": [],
   "source": [
    "\n",
    "class ViST(nn.Module):\n",
    "\n",
    "    def __init__(self,sensor_class_n,output_class_n):\n",
    "        super().__init__()\n",
    "        self.sensor_linear = nn.Linear(sensor_class_n,config.hidden_size) \n",
    "        self.sensor_linear2 = nn.Linear(1,145)\n",
    "\n",
    "        self.token_type_embeddings = nn.Embedding(2, config.hidden_size)\n",
    "        self.token_type_embeddings.apply(objectives.init_weights)\n",
    "\n",
    "        # self.transformer = getattr(vit, config.vit)(\n",
    "        #         pretrained=False, config=vars(config)\n",
    "        #     )\n",
    "        self.transformer = vit.VisionTransformerForViST(img_size=config.img_size,patch_size=config.patch_size,embed_dim=config.hidden_size,num_heads=config.num_heads,mlp_ratio=config.mlp_ratio,qkv_bias=False,qk_scale=None)\n",
    "       \n",
    "        self.dense = nn.Linear(config.hidden_size, config.hidden_size)\n",
    "        self.activation = nn.Tanh()\n",
    "\n",
    "\n",
    "        self.pooler = heads.Pooler(config.hidden_size)\n",
    "\n",
    "        # self.pooler.apply(objectives.init_weights)\n",
    "        self.classifier = nn.Linear(config.hidden_size,output_class_n)\n",
    "\n",
    "        hs = config.hidden_size\n",
    "\n",
    "\n",
    "    def infer(\n",
    "        self,\n",
    "        batch,\n",
    "        mask_image=False,\n",
    "        image_token_type_idx=1,\n",
    "        image_embeds=None,\n",
    "        image_masks=None,\n",
    "    ):\n",
    "        sensor = batch['sensor'].to(config.device)\n",
    "        sensor_embeds = self.sensor_linear(sensor) # input[1,1,12]  output[1,1,768]\n",
    "        sensor_embeds = torch.transpose(sensor_embeds,1,2)\n",
    "        sensor_embeds = self.sensor_linear2(sensor_embeds)\n",
    "        sensor_embeds = torch.transpose(sensor_embeds,1,2)\n",
    "\n",
    "        if image_embeds is None and image_masks is None:\n",
    "            img = batch[\"image\"].to(config.device)\n",
    "            (\n",
    "                image_embeds, # torch.Size([1, 217, 768])\n",
    "                image_masks, # torch.Size([1, 217])\n",
    "                patch_index,\n",
    "                image_labels,\n",
    "            ) = self.transformer.visual_embed(\n",
    "                img,\n",
    "                max_image_len=config.max_image_len,\n",
    "                mask_it=mask_image,\n",
    "            )\n",
    "        else:\n",
    "            patch_index, image_labels = (\n",
    "                None,\n",
    "                None,\n",
    "            )\n",
    "        # 用embedding对数据输入预处理，降低维度\n",
    "        image_embeds = image_embeds + self.token_type_embeddings(\n",
    "                torch.full_like(image_masks, image_token_type_idx)\n",
    "            )\n",
    "        \n",
    "        x_image = image_embeds # torch.Size([2, 145, 768])\n",
    "        x_sensor = sensor_embeds # torch.Size([2, 145, 768])\n",
    "        for i, blk in enumerate(self.transformer.blocks): \n",
    "            blk = blk.to(config.device)\n",
    "            x_image,x_sensor, _attn_image,_attn_sensor = blk(x_image, x_sensor) # co_masks = torch.Size([1, 211])\n",
    "\n",
    "        x = torch.cat([x_image, x_sensor], dim=1)\n",
    "        # x = self.transformer.norm(x) # torch.Size([1, 240, 768])\n",
    "\n",
    "        cls_feats = self.pooler(x) # torch.Size([1, 768])\n",
    "        # cls_feats = self.dense(x)\n",
    "        # cls_feats = self.activation(cls_feats)\n",
    "        cls_output = self.classifier(cls_feats)\n",
    "        # m = nn.Softmax(dim=1)\n",
    "        \n",
    "        m = nn.Sigmoid()\n",
    "        cls_output = m(cls_output)\n",
    "        \n",
    "        \n",
    "        ret = {\n",
    "           \"sensor_feats\":x_image,\n",
    "            \"image_feats\": x_sensor,\n",
    "            \"cls_feats\": cls_feats, # class features\n",
    "            \"cls_output\":cls_output,\n",
    "        }\n",
    "\n",
    "        return ret\n",
    "\n",
    "    def forward(self, batch):\n",
    "        ret = dict()\n",
    "        \n",
    "        ret.update(self.infer(batch))\n",
    "        return ret\n"
   ]
  },
  {
   "attachments": {},
   "cell_type": "markdown",
   "metadata": {},
   "source": [
    "test data"
   ]
  },
  {
   "cell_type": "code",
   "execution_count": 5,
   "metadata": {},
   "outputs": [],
   "source": [
    "model = ViST(sensor_class_n= config.senser_input_num,output_class_n = 1)"
   ]
  },
  {
   "cell_type": "code",
   "execution_count": 6,
   "metadata": {},
   "outputs": [
    {
     "name": "stdout",
     "output_type": "stream",
     "text": [
      "torch.Size([2, 1, 19])\n"
     ]
    },
    {
     "data": {
      "text/plain": [
       "{'sensor_feats': tensor([[[ 0.6595, -0.4498,  0.3922,  ...,  0.0204, -0.1160, -0.2402],\n",
       "          [ 0.6246, -0.7694,  0.0090,  ...,  0.0950,  0.1712,  0.2680],\n",
       "          [ 0.3803, -0.8262,  0.3992,  ..., -0.2846,  0.2506, -0.0940],\n",
       "          ...,\n",
       "          [ 0.9158, -1.2279, -0.0145,  ...,  0.2157, -0.4875, -0.0879],\n",
       "          [ 1.1979, -1.0235,  0.1862,  ...,  0.3160, -0.2873,  0.0644],\n",
       "          [ 1.1956, -0.6469,  0.4673,  ...,  0.0361,  0.3572, -0.0267]],\n",
       " \n",
       "         [[ 1.0390, -0.3722, -0.0572,  ..., -0.2879, -0.3757,  0.1105],\n",
       "          [ 0.1092,  0.0326, -0.2876,  ...,  0.0239,  0.2742, -0.5106],\n",
       "          [ 0.3016, -0.3207, -0.1068,  ...,  0.3272, -0.1817,  0.3776],\n",
       "          ...,\n",
       "          [ 0.8873,  0.0691, -0.4358,  ...,  0.2184, -0.3868, -0.0499],\n",
       "          [ 0.4286,  0.2746, -0.0911,  ..., -0.2071,  0.0686, -0.1166],\n",
       "          [ 0.7101,  0.1664, -0.4994,  ...,  0.0935,  0.1184,  0.3041]]],\n",
       "        grad_fn=<AddBackward0>),\n",
       " 'image_feats': tensor([[[ 0.0897,  0.3390, -0.4257,  ...,  0.1446,  0.1064, -0.1632],\n",
       "          [ 0.2804, -0.3087, -0.3807,  ..., -0.1785,  0.1371, -0.5093],\n",
       "          [ 0.1426,  0.2102, -0.3396,  ...,  0.0452,  0.1592, -0.0025],\n",
       "          ...,\n",
       "          [ 0.3468, -0.5694, -0.3918,  ...,  0.0566,  0.1865, -0.4478],\n",
       "          [ 0.3317,  0.5586, -0.2991,  ...,  0.0738, -0.2605,  0.0235],\n",
       "          [ 0.5092,  0.2844, -0.2534,  ...,  0.0543, -0.4178, -0.1143]],\n",
       " \n",
       "         [[ 0.2237,  0.0243,  0.1309,  ..., -0.0917,  0.2889,  0.0960],\n",
       "          [ 0.4929, -0.0153,  0.5275,  ..., -0.2146, -0.0455,  0.1520],\n",
       "          [ 0.3334,  0.2063, -0.4218,  ...,  0.1759, -0.1407, -0.0511],\n",
       "          ...,\n",
       "          [ 0.5220,  0.1282,  0.2448,  ..., -0.4920, -0.1716, -0.0074],\n",
       "          [ 0.4872,  0.3541, -0.0211,  ..., -0.1824, -0.1407,  0.1906],\n",
       "          [ 0.5807,  0.3472, -0.3209,  ...,  0.0154, -0.1056,  0.2350]]],\n",
       "        grad_fn=<AddBackward0>),\n",
       " 'cls_feats': tensor([[ 0.0300, -0.4165,  0.2301,  ...,  0.1833,  0.1930,  0.2348],\n",
       "         [-0.3687,  0.2576,  0.0187,  ..., -0.0939, -0.2023,  0.3693]],\n",
       "        grad_fn=<TanhBackward>),\n",
       " 'cls_output': tensor([[0.5144],\n",
       "         [0.5273]], grad_fn=<SigmoidBackward>)}"
      ]
     },
     "execution_count": 6,
     "metadata": {},
     "output_type": "execute_result"
    }
   ],
   "source": [
    "sensor = torch.rand([2,1,19])\n",
    "# sensor = torch.ones(config.senser_input_num)\n",
    "\n",
    "# sensor =  torch.tensor(sensor).unsqueeze(0).unsqueeze(0) # torch.Size([1, 1, 3])\n",
    "print(sensor.shape)\n",
    "batch = {}\n",
    "batch['sensor'] = sensor\n",
    "batch['image'] = torch.randn([2,3,384,384])\n",
    "model(batch)"
   ]
  },
  {
   "cell_type": "code",
   "execution_count": 7,
   "metadata": {},
   "outputs": [
    {
     "data": {
      "text/plain": [
       "torch.Size([2, 12, 146, 64])"
      ]
     },
     "execution_count": 7,
     "metadata": {},
     "output_type": "execute_result"
    }
   ],
   "source": [
    "attn = torch.randn([2,12,146,146])\n",
    "v = torch.randn([2,12,146,64])\n",
    "(attn @ v).shape"
   ]
  },
  {
   "attachments": {},
   "cell_type": "markdown",
   "metadata": {},
   "source": [
    "test for attention"
   ]
  },
  {
   "cell_type": "code",
   "execution_count": 8,
   "metadata": {},
   "outputs": [],
   "source": [
    "model_attn = vit.AttentionForViST(dim=768,num_heads=12,qkv_bias=False,qk_scale=None,attn_drop=0.0,proj_drop=0.0)"
   ]
  },
  {
   "cell_type": "code",
   "execution_count": 9,
   "metadata": {},
   "outputs": [],
   "source": [
    "image_input = torch.randn([2,145,768])\n",
    "sensor_input = torch.randn([2,145,768])"
   ]
  },
  {
   "cell_type": "code",
   "execution_count": 10,
   "metadata": {},
   "outputs": [],
   "source": [
    "x_image,x_sensor, attn_image,attn_sensor = model_attn(image_input,sensor_input)"
   ]
  },
  {
   "cell_type": "code",
   "execution_count": 11,
   "metadata": {},
   "outputs": [],
   "source": [
    "model_vist = vit.VisionTransformerForViST(img_size=config.img_size,patch_size=config.patch_size,embed_dim=config.hidden_size,num_heads=config.num_heads,mlp_ratio=config.mlp_ratio,qkv_bias=False,qk_scale=None)\n"
   ]
  }
 ],
 "metadata": {
  "kernelspec": {
   "display_name": "pytorch",
   "language": "python",
   "name": "python3"
  },
  "language_info": {
   "codemirror_mode": {
    "name": "ipython",
    "version": 3
   },
   "file_extension": ".py",
   "mimetype": "text/x-python",
   "name": "python",
   "nbconvert_exporter": "python",
   "pygments_lexer": "ipython3",
   "version": "3.8.5"
  },
  "orig_nbformat": 4,
  "vscode": {
   "interpreter": {
    "hash": "e32618030883af29da10316c76c83da9a02f65dadf9a9b09d160d0d4f5840e5a"
   }
  }
 },
 "nbformat": 4,
 "nbformat_minor": 2
}
