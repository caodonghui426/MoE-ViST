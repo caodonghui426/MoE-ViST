{
 "cells": [
  {
   "attachments": {},
   "cell_type": "markdown",
   "metadata": {},
   "source": [
    "# import"
   ]
  },
  {
   "cell_type": "code",
   "execution_count": 43,
   "metadata": {},
   "outputs": [],
   "source": [
    "import torch\n",
    "import torch.nn as nn\n",
    "from vilt.modules import heads, objectives\n",
    "import vilt.modules.vision_transformer as vit\n",
    "import torch.nn.functional as F\n",
    "import random\n",
    "from typing import OrderedDict\n",
    "import os\n",
    "import pandas as pd\n",
    "import numpy as np\n",
    "from vilt.transforms import pixelbert_transform\n",
    "from PIL import Image\n",
    "from torchvision import transforms\n",
    "from tqdm import tqdm\n",
    "from torch.utils.data import DataLoader\n",
    "import gc\n",
    "import torch.optim as optim\n",
    "from torch.optim import lr_scheduler\n",
    "from collections import defaultdict\n",
    "import wandb\n",
    "\n",
    "from sklearn.model_selection import StratifiedKFold, KFold, StratifiedGroupKFold\n"
   ]
  },
  {
   "attachments": {},
   "cell_type": "markdown",
   "metadata": {},
   "source": [
    "# config"
   ]
  },
  {
   "cell_type": "code",
   "execution_count": 44,
   "metadata": {},
   "outputs": [
    {
     "name": "stdout",
     "output_type": "stream",
     "text": [
      "当前device= cuda:0\n"
     ]
    }
   ],
   "source": [
    "class config:\n",
    "    debug = True\n",
    "    sensor_only = False\n",
    "    crop_name = \"total\"\n",
    "\n",
    "    \n",
    "    exp_name = \"ViST\"\n",
    "    seed = 101\n",
    "    batch_size = 4096  # this is a desired batch size; pl trainer will accumulate gradients when per step batch is smaller.\n",
    "    train_batch_size = 32\n",
    "    valid_batch_size = 4\n",
    "    device = torch.device(\"cuda:1\" if torch.cuda.is_available() else \"cpu\")\n",
    "    n_fold = 5\n",
    "\n",
    "    model_name = \"sensorViLOnlyTransformerSS\" #仅图片\n",
    "    # model_name = \"sensorOnlyViLTransformerSS\"  #仅vilt传感器\n",
    "    # model_name = \"sensorViLTransformerSS\"  #vilt图像+传感器\n",
    "    # model_name = \"DNNF1\"  #DNNF1图像+传感器\n",
    "    # model_name = \"DNNF1PictureOnly\"  #DNNF1图像\n",
    "    # model_name = \"DNNF1SensorOnly\"  #DNNF1传感器\n",
    "\n",
    "    # model_name = \"DNNF2\"  #DNNF2图像+传感器\n",
    "    # model_name = \"DNNF2PictureOnly\"  #DNNF1图像\n",
    "    # model_name = \"DNNF2SensorOnly\"  #DNNF1传感器\n",
    "    # wandb \n",
    "    # wandb_name = \"vilt|大豆|290图像加传感器\"\n",
    "    # wandb_name = \"vilt|大豆|290仅传感器\"\n",
    "    wandb_name = \"vilt|大豆|290仅图片\"\n",
    "\n",
    "    # wandb_name = \"DNNF1|大豆|290图像加传感器\"\n",
    "    # wandb_name = \"DNNF1|大豆|290仅图像\"\n",
    "    # wandb_name = \"DNNF1|大豆|290仅传感器\"\n",
    "    \n",
    "    # wandb_name = \"DNNF2|大豆|290图像加传感器\"\n",
    "    # wandb_name = \"DNNF2|大豆|290仅图像\"\n",
    "    # wandb_name = \"DNNF2|大豆|290仅传感器\"\n",
    "    \n",
    "\n",
    "    # Image setting\n",
    "    train_transform_keys = [\"pixelbert\"]\n",
    "    val_transform_keys = [\"pixelbert\"]\n",
    "    img_size = 384\n",
    "    max_image_len = -1\n",
    "    patch_size = 32\n",
    "    draw_false_image = 1\n",
    "    image_only = False\n",
    "\n",
    "    # Sensor\n",
    "    # senser_input_num = 11 # 翔冠的传感器参数\n",
    "    senser_input_num = 19 # 天航的传感器参数\n",
    "    \n",
    "    # Text Setting\n",
    "    vqav2_label_size = 3129\n",
    "    max_text_len = 40\n",
    "    tokenizer = \"bert-base-uncased\"\n",
    "    vocab_size = 30522 # vocabulary词汇数量\n",
    "    whole_word_masking = False\n",
    "    mlm_prob = 0.15\n",
    "    draw_false_text = 0\n",
    "\n",
    "    # Transformer Setting\n",
    "    vit = \"vit_base_patch32_384\"\n",
    "    hidden_size = 768  # 嵌入向量大小\n",
    "    num_heads = 12\n",
    "    num_layers = 12\n",
    "    mlp_ratio = 4\n",
    "    drop_rate = 0.1\n",
    "\n",
    "    # Optimizer Setting\n",
    "    optim_type = \"adamw\"\n",
    "    learning_rate = 1e-3 #0.0015#2e-3 #\n",
    "    weight_decay = 1e-4 # 0.01 ->1e-4\n",
    "    decay_power = 1\n",
    "    max_epoch = 50\n",
    "    max_steps = 25000\n",
    "    warmup_steps = 2500\n",
    "    end_lr = 0\n",
    "    lr_mult = 1  # multiply lr for downstream heads\n",
    "    # T_max = 8000/train_batch_size*max_epoch \n",
    "    # T_max = 4632/train_batch_size*max_epoch # total 7237.5\n",
    "    T_max = 2126/train_batch_size*max_epoch # soybean 3321.875\n",
    "\n",
    "    # Downstream Setting\n",
    "    get_recall_metric = False\n",
    "\n",
    "\n",
    "    # below params varies with the environment\n",
    "    data_root = \"\"\n",
    "    log_dir = \"result\"\n",
    "    per_gpu_batchsize = 0  # you should define this manually with per_gpu_batch_size=#\n",
    "    num_gpus = 1\n",
    "    num_nodes = 1\n",
    "    load_path = \"weights/vilt_200k_mlm_itm.ckpt\"\n",
    "    # load_path = \"save_model_dict.pt\"\n",
    "    num_workers = 1\n",
    "    precision = 16\n",
    "\n",
    "\n",
    "if config.debug:\n",
    "    config.max_epoch = 5\n",
    "print(\"当前device=\",config.device)"
   ]
  },
  {
   "cell_type": "code",
   "execution_count": 45,
   "metadata": {},
   "outputs": [],
   "source": [
    "def setup_seed(seed):\n",
    "\n",
    "    torch.manual_seed(seed)  # 为CPU设置随机种子\n",
    "    np.random.seed(seed)  # Numpy module.\n",
    "    random.seed(seed)  # Python random module.\n",
    "    # torch.backends.cudnn.benchmark = False\n",
    "    torch.backends.cudnn.deterministic = True\n",
    "    torch.cuda.manual_seed(seed)  # 为当前GPU设置随机种子\n",
    "    torch.cuda.manual_seed_all(seed)  # 为所有GPU设置随机种子\n",
    "    #os.environ['PYTHONHASHSEED'] = str(seed)\n",
    "    \n",
    "setup_seed(config.seed)"
   ]
  },
  {
   "attachments": {},
   "cell_type": "markdown",
   "metadata": {},
   "source": [
    "# wandb"
   ]
  },
  {
   "cell_type": "code",
   "execution_count": 46,
   "metadata": {},
   "outputs": [
    {
     "name": "stderr",
     "output_type": "stream",
     "text": [
      "\u001b[34m\u001b[1mwandb\u001b[0m: \u001b[33mWARNING\u001b[0m Calling wandb.login() after wandb.init() has no effect.\n"
     ]
    }
   ],
   "source": [
    "if config.debug == True:\n",
    "    os.environ[\"WANDB_MODE\"] = 'dryrun' # 离线模式\n",
    "try:\n",
    "    # wandb.log(key=\"*******\") # if debug\n",
    "    wandb.login() # storage in ~/.netrc file\n",
    "    anonymous = None\n",
    "except:\n",
    "    anonymous = \"must\"\n",
    "    print('\\nGet your W&B access token from here: https://wandb.ai/authorize\\n')\n"
   ]
  },
  {
   "attachments": {},
   "cell_type": "markdown",
   "metadata": {},
   "source": [
    "# 数据"
   ]
  },
  {
   "cell_type": "code",
   "execution_count": 47,
   "metadata": {},
   "outputs": [],
   "source": [
    "def fetch_df(crop_name):\n",
    "    if crop_name == \"soybean\":\n",
    "        df_tianhang = pd.read_csv(\"/home/junsheng/ViLT/data/290-tianhang-soybean.csv\")\n",
    "        df_tianhang['image_path'] = df_tianhang['pic_key'].map(lambda x:os.path.join('/home/junsheng/data/tianhang_soybean',x.split('/')[-1]))\n",
    "    elif crop_name == \"rice\":\n",
    "        df_tianhang = pd.read_csv(\"/home/junsheng/ViLT/data/290-tianhang-rice.csv\")\n",
    "        df_tianhang['image_path'] = df_tianhang['pic_key'].map(lambda x:os.path.join('/home/junsheng/data/tianhang_rice',x.split('/')[-1]))\n",
    "    elif crop_name == \"corn\":\n",
    "        \n",
    "        df_tianhang = pd.read_csv(\"/home/junsheng/ViLT/data/290-tianhang-corn.csv\")\n",
    "        df_tianhang['image_path'] = df_tianhang['pic_key'].map(lambda x:os.path.join('/home/junsheng/data/tianhang_corn',x.split('/')[-1]))\n",
    "    elif crop_name == \"total\":\n",
    "        df_tianhang_soybean = pd.read_csv(\"/home/junsheng/ViLT/data/290-tianhang-soybean.csv\")\n",
    "        df_tianhang_soybean['image_path'] = df_tianhang_soybean['pic_key'].map(lambda x:os.path.join('/home/junsheng/data/tianhang_soybean',x.split('/')[-1]))\n",
    "\n",
    "        df_tianhang_rice = pd.read_csv(\"/home/junsheng/ViLT/data/290-tianhang-rice.csv\")\n",
    "        df_tianhang_rice['image_path'] = df_tianhang_rice['pic_key'].map(lambda x:os.path.join('/home/junsheng/data/tianhang_rice',x.split('/')[-1]))\n",
    "\n",
    "        df_tianhang_corn = pd.read_csv(\"/home/junsheng/ViLT/data/290-tianhang-corn.csv\")\n",
    "        df_tianhang_corn['image_path'] = df_tianhang_corn['pic_key'].map(lambda x:os.path.join('/home/junsheng/data/tianhang_corn',x.split('/')[-1]))\n",
    "\n",
    "        df_tianhang = pd.concat([df_tianhang_soybean,df_tianhang_rice,df_tianhang_corn])\n",
    "    df_tianhang['label'] = df_tianhang['LAI']\n",
    "    df_tianhang = df_tianhang.dropna()\n",
    "    df_tianhang = df_tianhang.reset_index()\n",
    "    # print(df_tianhang.shape)\n",
    "    number_title = []\n",
    "    # 归一化数值列\n",
    "    recorder = {}\n",
    "    for title in df_tianhang:\n",
    "        # print(df_xiangguan[title].head())\n",
    "        if title == 'raw_label':\n",
    "            continue\n",
    "        if df_tianhang[title].dtype != \"object\":\n",
    "            \n",
    "            number_title.append(title)\n",
    "            x_min = df_tianhang[title].min()\n",
    "            x_max = df_tianhang[title].max()\n",
    "            # print(x_min,x_max)\n",
    "            recorder[title] = (x_min,x_max)\n",
    "            df_tianhang[title] = df_tianhang[title].map(lambda x:(x-x_min + 0.01)/(x_max - x_min))\n",
    "    # print(number_title)\n",
    "    # print(recorder)\n",
    "\n",
    "    # 选择传感器列\n",
    "    if crop_name==\"corn\":\n",
    "        config.senser_input_num = 17\n",
    "        tianhang_sensor = ['co2', 'stemp', 'stemp2', 'stemp3', 'stemp5', 'shumi', 'shumi2', 'shumi3', 'shumi5', 'humi', 'pm10', 'pm25', 'press', 'solar', 'temp', 'wind_d', 'wind_sp']\n",
    "    else:\n",
    "        config.senser_input_num = 19\n",
    "        tianhang_sensor = ['co2', 'stemp', 'stemp2', 'stemp3', 'stemp4', 'stemp5', 'shumi', 'shumi2', 'shumi3', 'shumi4', 'shumi5', 'humi', 'pm10', 'pm25', 'press', 'solar', 'temp', 'wind_d', 'wind_sp']\n",
    "    if crop_name == \"total\":\n",
    "        config.senser_input_num = 17\n",
    "        tianhang_sensor = ['co2', 'stemp', 'stemp2', 'stemp3', 'stemp5', 'shumi', 'shumi2', 'shumi3', 'shumi5', 'humi', 'pm10', 'pm25', 'press', 'solar', 'temp', 'wind_d', 'wind_sp']\n",
    "    df_tianhang['sensor'] = df_tianhang[tianhang_sensor].values.tolist()\n",
    "    # print(\"input dim:\",len(tianhang_sensor))\n",
    "    \n",
    "    # 筛选仅传感器信息\n",
    "    if config.sensor_only:\n",
    "    # del df_tianhang['pic_key']\n",
    "        df_tianhang.drop_duplicates(subset=['pic_key'],inplace=True,ignore_index=True)\n",
    "    # print(\"*********************df shape:\",df_tianhang.shape)\n",
    "    \n",
    "    # debug 特判\n",
    "    df=df_tianhang\n",
    "    if config.debug:\n",
    "        df = df[:100]\n",
    "    return df\n",
    "\n",
    "# fetch_df(config.crop_name)"
   ]
  },
  {
   "cell_type": "code",
   "execution_count": 48,
   "metadata": {},
   "outputs": [
    {
     "data": {
      "text/plain": [
       "(100, 29)"
      ]
     },
     "execution_count": 48,
     "metadata": {},
     "output_type": "execute_result"
    }
   ],
   "source": [
    "fetch_df('soybean').shape"
   ]
  },
  {
   "attachments": {},
   "cell_type": "markdown",
   "metadata": {},
   "source": [
    "create folds"
   ]
  },
  {
   "cell_type": "code",
   "execution_count": 49,
   "metadata": {},
   "outputs": [],
   "source": [
    "def creat_folds(df):\n",
    "    skf = StratifiedKFold(n_splits=config.n_fold, shuffle=True, random_state=config.seed)  \n",
    "    for fold, (train_idx, val_idx) in enumerate(skf.split(df,df.date)):\n",
    "        df.loc[val_idx, 'fold'] = fold\n",
    "    print(df.groupby(['fold'])['label'].count())   \n",
    "    return df \n"
   ]
  },
  {
   "attachments": {},
   "cell_type": "markdown",
   "metadata": {},
   "source": [
    "# dataset\n"
   ]
  },
  {
   "cell_type": "code",
   "execution_count": 50,
   "metadata": {},
   "outputs": [],
   "source": [
    "myTransforms = transforms.Compose([\n",
    "    transforms.Resize((config.img_size,config.img_size)),\n",
    "    transforms.ToTensor(),\n",
    "    transforms.Normalize(\n",
    "    mean=[0.4870, 0.5287, 0.4776],\n",
    "    std=[0.1639, 0.1735, 0.1617],\n",
    ")\n",
    "])\n",
    "\n",
    "def load_img(path):\n",
    "    img =  Image.open(path).convert('RGB')\n",
    "    img = myTransforms(img)\n",
    "    return img\n",
    "\n",
    "class BuildDataset(torch.utils.data.Dataset):\n",
    "    def __init__(self, df, label=True, transforms=None):\n",
    "        self.df         = df\n",
    "        self.label      = label\n",
    "        self.sensors = df['sensor'].tolist()\n",
    "        self.img_paths  = df['image_path'].tolist()   \n",
    "        if self.label:\n",
    "            self.labels = df['label'].tolist()\n",
    "        self.transforms = transforms\n",
    "        \n",
    "    def __len__(self):\n",
    "        return len(self.df)\n",
    "    \n",
    "    def __getitem__(self, index):\n",
    "        img_path  = self.img_paths[index]\n",
    "        img = load_img(img_path)\n",
    "        sensor = self.sensors[index]\n",
    "        sensor = torch.tensor(sensor).unsqueeze(0) #[1,n]\n",
    "        if self.label:\n",
    "            label = self.labels[index]\n",
    "            return torch.tensor(img).to(torch.float), torch.tensor(sensor).to(torch.float),torch.tensor(label).to(torch.float)\n",
    "         \n",
    "\n",
    "        else:\n",
    "            return torch.tensor(img).to(torch.float), torch.tensor(sensor).to(torch.float)\n"
   ]
  },
  {
   "attachments": {},
   "cell_type": "markdown",
   "metadata": {},
   "source": [
    "# dataloader"
   ]
  },
  {
   "cell_type": "code",
   "execution_count": 51,
   "metadata": {},
   "outputs": [],
   "source": [
    "def fetch_dataloader(fold:int,df):\n",
    "    train_df = df.query(\"fold!=@fold\").reset_index(drop=True)\n",
    "\n",
    "    valid_df = df.query(\"fold==@fold\").reset_index(drop=True)\n",
    "    print(\"train_df.shape:\",train_df.shape)\n",
    "    print(\"valid_df.shape:\",valid_df.shape)\n",
    "\n",
    "    train_data  = BuildDataset(df=train_df,label=True)\n",
    "    valid_data = BuildDataset(df=valid_df,label=True)\n",
    "\n",
    "    train_loader = DataLoader(train_data, batch_size=config.train_batch_size,shuffle=True)\n",
    "    valid_loader = DataLoader(valid_data, batch_size=config.valid_batch_size,shuffle=False)\n",
    "    # test_loader = DataLoader(test_data, batch_size=config.test_batch_size,shuffle=False)\n",
    "    return train_loader,valid_loader\n",
    "\n",
    "def fetch_dataloader_ubiquatous():\n",
    "    train_df = pd.concat((fetch_df('soybean'),fetch_df('rice')),axis=0,join='inner').reset_index(drop=True)\n",
    "\n",
    "    valid_df = fetch_df('corn').reset_index(drop=True)\n",
    "    print(\"train_df.shape:\",train_df.shape)\n",
    "    print(\"valid_df.shape:\",valid_df.shape)\n",
    "\n",
    "    train_data  = BuildDataset(df=train_df,label=True)\n",
    "    valid_data = BuildDataset(df=valid_df,label=True)\n",
    "\n",
    "    train_loader = DataLoader(train_data, batch_size=config.train_batch_size,shuffle=True)\n",
    "    valid_loader = DataLoader(valid_data, batch_size=config.valid_batch_size,shuffle=False)\n",
    "    # test_loader = DataLoader(test_data, batch_size=config.test_batch_size,shuffle=False)\n",
    "    return train_loader,valid_loader\n",
    "def fetch_dataloader_ubiquatous_single_crop_test(fold:int,df,crop_name):#以一种作物为测试\n",
    "    train_df = df.query(\"fold!=@fold\").reset_index(drop=True)\n",
    "    if crop_name == \"soybean\":\n",
    "        valid_df = pd.read_csv(\"/home/junsheng/ViLT/data/ubiquitous_soybean.csv\")\n",
    "    elif crop_name == \"corn\":\n",
    "        valid_df = pd.read_csv(\"/home/junsheng/ViLT/data/ubiquitous_corn.csv\")\n",
    "    elif crop_name == \"rice\":\n",
    "        valid_df = pd.read_csv(\"/home/junsheng/ViLT/data/ubiquitous_rice.csv\")\n",
    "    print(\"train_df.shape:\",train_df.shape)\n",
    "    print(\"valid_df.shape:\",valid_df.shape)\n",
    "\n",
    "    train_data  = BuildDataset(df=train_df,label=True)\n",
    "    valid_data = BuildDataset(df=valid_df,label=True)\n",
    "\n",
    "    train_loader = DataLoader(train_data, batch_size=config.train_batch_size,shuffle=True)\n",
    "    valid_loader = DataLoader(valid_data, batch_size=config.valid_batch_size,shuffle=False)\n",
    "    # test_loader = DataLoader(test_data, batch_size=config.test_batch_size,shuffle=False)\n",
    "    return train_loader,valid_loader"
   ]
  },
  {
   "attachments": {},
   "cell_type": "markdown",
   "metadata": {},
   "source": [
    "计算图像均值标准差"
   ]
  },
  {
   "cell_type": "code",
   "execution_count": 52,
   "metadata": {},
   "outputs": [
    {
     "name": "stdout",
     "output_type": "stream",
     "text": [
      "fold\n",
      "0.0    20\n",
      "1.0    20\n",
      "2.0    20\n",
      "3.0    20\n",
      "4.0    20\n",
      "Name: label, dtype: int64\n"
     ]
    },
    {
     "name": "stderr",
     "output_type": "stream",
     "text": [
      "/home/junsheng/.conda/envs/pytorch_junsheng_39/lib/python3.9/site-packages/sklearn/model_selection/_split.py:684: UserWarning: The least populated class in y has only 4 members, which is less than n_splits=5.\n",
      "  warnings.warn(\n"
     ]
    }
   ],
   "source": [
    "def get_mean_std_value(loader):\n",
    "    '''\n",
    "    求数据集的均值和标准差\n",
    "    :param loader:\n",
    "    :return:\n",
    "    '''\n",
    "    data_sum,data_squared_sum,num_batches = 0,0,0\n",
    "       \n",
    "    pbar = tqdm(enumerate(loader), total=len(loader), desc='caculating ')    \n",
    "    # for data,sensor,label  in loader:\n",
    "    for step,(data,sensor,label)  in pbar:\n",
    "        # data: [batch_size,channels,height,width]\n",
    "        # 计算dim=0,2,3维度的均值和，dim=1为通道数量，不用参与计算\n",
    "        # data_sum += torch.mean(data,dim=[0,2,3])    # [batch_size,channels,height,width]\n",
    "        data_sum += torch.mean(data,dim=[0,2,3])    # [batch_size,height,width,channels]\n",
    "        # 计算dim=0,2,3维度的平方均值和，dim=1为通道数量，不用参与计算\n",
    "        # data_squared_sum += torch.mean(data**2,dim=[0,2,3])  # [batch_size,channels,height,width]\n",
    "        data_squared_sum += torch.mean(data**2,dim=[0,2,3])  # [batch_size,height,width,channels]\n",
    "        # 统计batch的数量\n",
    "        num_batches += 1\n",
    "\n",
    "       \n",
    "    # 计算均值\n",
    "    mean = data_sum/num_batches\n",
    "    # 计算标准差\n",
    "    std = (data_squared_sum/num_batches - mean**2)**0.5\n",
    "    return mean,std\n",
    "df = fetch_df(config.crop_name)\n",
    "df = creat_folds(df)\n",
    "# train_loader,_ = fetch_dataloader(fold=0,df=df)\n",
    "# mean,std = get_mean_std_value(train_loader)\n",
    "# print('mean = {},std = {}'.format(mean,std))"
   ]
  },
  {
   "attachments": {},
   "cell_type": "markdown",
   "metadata": {},
   "source": [
    "# model"
   ]
  },
  {
   "attachments": {},
   "cell_type": "markdown",
   "metadata": {},
   "source": [
    "## model build"
   ]
  },
  {
   "cell_type": "code",
   "execution_count": 53,
   "metadata": {},
   "outputs": [],
   "source": [
    "import pretrainedmodels\n",
    "from efficientnet_pytorch import EfficientNet\n",
    "import models\n",
    "from models.RiceFusion import RiceFusion\n",
    "from models.ViST import *\n",
    "from models.resnet import *\n",
    "from models.vilt_ import *\n",
    "from models.DNNF1 import *\n",
    "from models.DNNF2 import *\n",
    "from models.RiceFusionMLP import *\n",
    "from models.RiceFusionCNN import *\n",
    "\n",
    "def build_model(model_name: str,pre_train):\n",
    "    if model_name[:6] == \"resnet50\":\n",
    "        model = pretrainedmodels.__dict__[config.model_name](\n",
    "            num_classes=1000, pretrained='imagenet')\n",
    "        dim_feats = model.last_linear.in_features  # =2048\n",
    "        nb_classes = 1\n",
    "        model.last_linear = nn.Linear(dim_feats, nb_classes)\n",
    "        return model\n",
    "    if model_name == \"se_resnet50\":\n",
    "        model = pretrainedmodels.__dict__[config.model_name](\n",
    "            num_classes=1000, pretrained='imagenet')\n",
    "        model.last_linear = nn.Linear(204800, 1,bias=True)\n",
    "        return model\n",
    "    if model_name == \"efficientnet-b4\": # efficient net\n",
    "        # refer:https://github.com/lukemelas/EfficientNet-PyTorch#example-classification\n",
    "        nb_classes = 1\n",
    "        if pre_train:\n",
    "            model = EfficientNet.from_pretrained(config.model_name)# 'efficientnet-b4'\n",
    "        else:\n",
    "            model = EfficientNet.from_name(config.model_name)# 'efficientnet-b4'\n",
    "        model._fc = nn.Linear(1792, nb_classes)\n",
    "        return model\n",
    "        \n",
    "    if model_name == \"ViST\":\n",
    "        model = ViST(sensor_class_n= config.senser_input_num,output_class_n = 1,config=config)\n",
    "        return model\n",
    "    if model_name == \"ViST2\":\n",
    "        model = ViST2(sensor_class_n= config.senser_input_num,output_class_n = 1,config=config)\n",
    "        return model\n",
    "    if model_name == \"sensorViST\":\n",
    "        model = sensorViST(sensor_class_n= config.senser_input_num,output_class_n = 1,config=config)\n",
    "        return model\n",
    "    if model_name == \"imageViST\":\n",
    "        model = imageViST(sensor_class_n= config.senser_input_num,output_class_n = 1,config=config)\n",
    "        return model\n",
    "        \n",
    "    if model_name == \"sensorOnlyViLTransformerSS\": #仅传感器\n",
    "        model = sensorOnlyViLTransformerSS(sensor_class_n= config.senser_input_num,output_class_n = 1,config=config)\n",
    "        return model\n",
    "    if model_name == \"sensorViLOnlyTransformerSS\": # 仅vit图像\n",
    "        model = sensorViLOnlyTransformerSS(sensor_class_n= config.senser_input_num,output_class_n = 1,config=config)\n",
    "        return model\n",
    "        \n",
    "    if model_name == \"sensorResnet50TransformerSS\":\n",
    "        model = sensorResnet50TransformerSS(sensor_class_n= config.senser_input_num,output_class_n = 1,config=config)\n",
    "        return model\n",
    "    if model_name == \"sensorResnet101TransformerSS\":\n",
    "        model = sensorResnet101TransformerSS(sensor_class_n= config.senser_input_num,output_class_n = 1,config=config)\n",
    "        return model\n",
    "\n",
    "    if model_name == \"sensorViLTransformerSS\":\n",
    "        model = sensorViLTransformerSS(sensor_class_n= config.senser_input_num,output_class_n = 1,config=config)\n",
    "        return model\n",
    "\n",
    "    if model_name == \"DNNF1\":\n",
    "        model = DNNF1(sensor_nums=config.senser_input_num,config=config)\n",
    "        return model\n",
    "    if model_name == \"DNNF1PictureOnly\":\n",
    "        model = DNNF1PictureOnly(sensor_nums=config.senser_input_num,config=config)\n",
    "        return model\n",
    "    if model_name == \"DNNF1SensorOnly\":\n",
    "        model = DNNF1SensorOnly(sensor_nums=config.senser_input_num,config=config)\n",
    "        return model\n",
    "        \n",
    "    if model_name == \"DNNF2\":\n",
    "        model = DNNF2(sensor_nums=config.senser_input_num,config=config)\n",
    "        return model\n",
    "    if model_name == \"DNNF2PictureOnly\":\n",
    "        model = DNNF2PictureOnly(sensor_nums=config.senser_input_num,config=config)\n",
    "        return model\n",
    "    if model_name == \"DNNF2SensorOnly\":\n",
    "        model = DNNF2SensorOnly(sensor_nums=config.senser_input_num,config=config)\n",
    "        return model\n",
    "    # RiceFusion对比模型\n",
    "    if model_name == \"RiceFusionMLP\":\n",
    "        model = RiceFusionMLP(sensor_nums=config.senser_input_num,config=config)\n",
    "        return model\n",
    "\n",
    "    if model_name == \"RiceFusionCNN\":\n",
    "        model = RiceFusionCNN(config=config)\n",
    "        return model\n",
    "    \n",
    "    if model_name == \"RiceFusion\":\n",
    "        return RiceFusion(sensor_nums=config.senser_input_num,config=config)\n",
    "    "
   ]
  },
  {
   "attachments": {},
   "cell_type": "markdown",
   "metadata": {},
   "source": [
    "# 损失函数"
   ]
  },
  {
   "cell_type": "code",
   "execution_count": 54,
   "metadata": {},
   "outputs": [],
   "source": [
    "criterion = F.mse_loss #均方误差损失函数\n",
    "criterion_mae = nn.L1Loss()\n",
    "from sklearn.metrics import r2_score\n",
    "from sklearn.metrics import mean_absolute_percentage_error\n",
    "def MAPE(y_true,y_pred):\n",
    "    \"\"\"计算MAPE误差，除数如果为0或者太小，则返回数值会很大\n",
    "\n",
    "    Args:\n",
    "        y_true (_type_): ground truth\n",
    "        y_pred (_type_): 预测值\n",
    "\n",
    "    Returns:\n",
    "        _type_: _description_\n",
    "    \"\"\"\n",
    "    return mean_absolute_percentage_error(y_true,y_pred)\n",
    "\n",
    "def SMAPE(y_true, y_pred):\n",
    "    \"\"\"计算smape\n",
    "\n",
    "    Args:\n",
    "        y_true (torch.tensor): 真实值\n",
    "        y_pred (torch.tensor): 预测值\n",
    "\n",
    "    Returns:\n",
    "        tensor: 一个数，如返回50，则表示50%\n",
    "    \"\"\"\n",
    "    return 2.0 * torch.mean(torch.abs(y_pred - y_true) / (torch.abs(y_pred) + torch.abs(y_true))) * 100.0\n"
   ]
  },
  {
   "attachments": {},
   "cell_type": "markdown",
   "metadata": {},
   "source": [
    "# train one epoch"
   ]
  },
  {
   "cell_type": "code",
   "execution_count": 55,
   "metadata": {},
   "outputs": [],
   "source": [
    "\n",
    "\n",
    "\n",
    "def train_one_epoch(model, optimizer, scheduler, dataloader, device, epoch):\n",
    "    model.train()\n",
    "    dataset_size = 0\n",
    "    running_loss = 0.0\n",
    "    \n",
    "    pbar = tqdm(enumerate(dataloader), total=len(dataloader), desc='Train ')\n",
    "    for step, (img, sensor,label) in pbar:         \n",
    "        # img = img.to(device, dtype=torch.float)\n",
    "        # sensor  = sensor.to(device, dtype=torch.float)\n",
    "        # label  = label.to(device, dtype=torch.float)\n",
    "        batch_size = img.size(0)\n",
    "        \n",
    "        batch = {\"image\":img,\"sensor\":sensor}\n",
    "\n",
    "        y_pred = model(batch)\n",
    "        label = label.to(config.device).unsqueeze(1)\n",
    "        loss = criterion(y_pred['cls_output'], label)\n",
    "        \n",
    "        #一坨优化\n",
    "        optimizer.zero_grad()#每一次反向传播之前都要归零梯度\n",
    "        loss.backward()      #反向传播\n",
    "        optimizer.step()     #固定写法\n",
    "        scheduler.step()\n",
    "     \n",
    "        running_loss += (loss.item() * batch_size)\n",
    "        dataset_size += batch_size\n",
    "        epoch_loss = running_loss / dataset_size\n",
    "        mem = torch.cuda.memory_reserved() / 1E9 if torch.cuda.is_available() else 0\n",
    "        current_lr = optimizer.param_groups[0]['lr']\n",
    "        pbar.set_postfix(train_loss=f'{epoch_loss:0.4f}',\n",
    "                        lr=f'{current_lr:0.5f}',\n",
    "                        gpu_mem=f'{mem:0.2f} GB')\n",
    "\n",
    "    \n",
    "        \n",
    "        \n",
    "    torch.cuda.empty_cache()\n",
    "    gc.collect()\n",
    "    \n",
    "    return epoch_loss"
   ]
  },
  {
   "attachments": {},
   "cell_type": "markdown",
   "metadata": {},
   "source": [
    "# valid one epoch"
   ]
  },
  {
   "cell_type": "code",
   "execution_count": 56,
   "metadata": {},
   "outputs": [],
   "source": [
    "@torch.no_grad()\n",
    "def valid_one_epoch(model, dataloader, device, optimizer):\n",
    "    model.eval()\n",
    "    \n",
    "    dataset_size = 0\n",
    "    running_loss = 0.0\n",
    "    \n",
    "    running_loss_mae = 0.0\n",
    "    running_loss_smape = 0.0\n",
    "    running_loss_mape = 0.0\n",
    "    \n",
    "    pbar = tqdm(enumerate(dataloader), total=len(dataloader), desc='Valid ')\n",
    "    for step, (img, sensor,label) in pbar:               \n",
    "        \n",
    "        \n",
    "        batch_size = img.size(0)\n",
    "        batch = {\"image\":img,\"sensor\":sensor}\n",
    "\n",
    "        y_pred  = model(batch)\n",
    "        label = label.to(config.device).unsqueeze(1)\n",
    "\n",
    "        loss = criterion(y_pred['cls_output'], label)\n",
    "        loss_mae = criterion_mae(y_pred['cls_output'], label)\n",
    "        loss_smape = SMAPE(label,y_pred['cls_output'])\n",
    "        loss_mape = MAPE(label.cpu(),y_pred['cls_output'].cpu())\n",
    "        \n",
    "        running_loss += (loss.item() * batch_size)\n",
    "        running_loss_mae += (loss_mae.item() * batch_size)\n",
    "        running_loss_smape += (loss_smape.item() * batch_size)\n",
    "        running_loss_mape += (loss_mape.item() * batch_size)\n",
    "\n",
    "        dataset_size += batch_size\n",
    "        \n",
    "        epoch_loss = running_loss / dataset_size\n",
    "        epoch_loss_mae = running_loss_mae / dataset_size\n",
    "        epoch_loss_smape = running_loss_smape / dataset_size\n",
    "        epoch_loss_mape = running_loss_mape / dataset_size\n",
    "        \n",
    "        \n",
    "        mem = torch.cuda.memory_reserved() / 1E9 if torch.cuda.is_available() else 0\n",
    "        current_lr = optimizer.param_groups[0]['lr']\n",
    "        pbar.set_postfix(valid_loss_mse=f'{epoch_loss:0.4f}',\n",
    "        valid_loss_mae=f'{epoch_loss_mae:0.4f}',\n",
    "        valid_loss_smape=f'{epoch_loss_smape:0.4f}',\n",
    "        valid_loss_mape=f'{epoch_loss_mape:0.4f}',\n",
    "                        lr=f'{current_lr:0.5f}',\n",
    "                        gpu_memory=f'{mem:0.2f} GB')\n",
    "    torch.cuda.empty_cache()\n",
    "    gc.collect()\n",
    "    \n",
    "    return epoch_loss,epoch_loss_mae,epoch_loss_smape,epoch_loss_mape#MSE，MAE,r2 score,mape"
   ]
  },
  {
   "attachments": {},
   "cell_type": "markdown",
   "metadata": {},
   "source": [
    "# train"
   ]
  },
  {
   "cell_type": "code",
   "execution_count": 57,
   "metadata": {},
   "outputs": [],
   "source": [
    "\n",
    "def run_training(model, optimizer, scheduler, device, num_epochs,train_loader,valid_loader):\n",
    "     # init wandb\n",
    "    run = wandb.init(project=config.exp_name,\n",
    "                    config={k: v for k, v in dict(vars(config)).items() if '__' not in k},\n",
    "                    # config={k: v for k, v in dict(config).items() if '__' not in k},\n",
    "                    anonymous=anonymous,\n",
    "                    # name=f\"vilt|fold-{config.valid_fold}\",\n",
    "                    name=config.wandb_name,\n",
    "                    # group=config.wandb_group,\n",
    "                    )\n",
    "    wandb.watch(model, log_freq=100)\n",
    "\n",
    "    best_loss = 9999\n",
    "    best_valid_loss = 9999\n",
    "    history = defaultdict(list)\n",
    "    if torch.cuda.is_available():\n",
    "        print(\"cuda: {}\\n\".format(torch.cuda.get_device_name()))\n",
    "    \n",
    "    for epoch in range(1, num_epochs + 1): \n",
    "        gc.collect()\n",
    "        print(f'Epoch {epoch}/{num_epochs}', end='')\n",
    "        train_loss = train_one_epoch(model, optimizer, scheduler, \n",
    "                                           dataloader=train_loader, \n",
    "                                           device=device, epoch=epoch)\n",
    "        val_loss,val_loss_mae,val_loss_smape,val_loss_mape = valid_one_epoch(model,valid_loader,device=device,optimizer=optimizer) # epoch_loss,epoch_loss_mae,epoch_loss_smape,epoch_loss_mape\n",
    "        history['Train Loss'].append(train_loss)\n",
    "        history['Valid Loss MSE'].append(val_loss)\n",
    "        history['Valid Loss MAE'].append(val_loss_mae)\n",
    "        history['Valid Loss SMAPE'].append(val_loss_smape)\n",
    "        history['Valid Loss MAPE'].append(val_loss_mape)\n",
    "\n",
    "        wandb.log({\"Train Loss\": train_loss,\n",
    "                    \"Valid Loss\": val_loss,\n",
    "                    \"Valid Loss MAE\": val_loss_mae,\n",
    "                    \"Valid Loss SMAPE\": val_loss_smape,\n",
    "                    \"Valid Loss MAPE\": val_loss_mape,\n",
    "                \"lr\": scheduler.get_last_lr()[0]\n",
    "                })\n",
    "        if best_valid_loss > val_loss:\n",
    "            best_valid_loss = val_loss\n",
    "            # model_file_path = os.path.join(wandb.run.dir,\"epoch-{}-{}.bin\".format(epoch,wandb.run.id))\n",
    "            model_file_path = os.path.join(wandb.run.dir,\"epoch-best.bin\")\n",
    "            run.summary[\"Best Epoch\"] = epoch\n",
    "            # torch.save(model.state_dict(), model_file_path)\n",
    "            # print(\"model save to\", model_file_path)\n",
    "               \n",
    "    os.system(\"cp /home/junsheng/ViLT/my_vilt_total.ipynb {}\".format(wandb.run.dir))\n",
    "    run.finish()\n",
    "    return model, history"
   ]
  },
  {
   "attachments": {},
   "cell_type": "markdown",
   "metadata": {},
   "source": [
    "run train"
   ]
  },
  {
   "cell_type": "code",
   "execution_count": 58,
   "metadata": {},
   "outputs": [],
   "source": [
    "def run(crop_name:str,model_name:str,wandb_name:str,sensor_only:bool):\n",
    "    config.model_name = model_name\n",
    "    config.wandb_name = wandb_name\n",
    "    config.sensor_only = sensor_only\n",
    "\n",
    "    df = fetch_df(crop_name)\n",
    "    df = creat_folds(df)\n",
    "\n",
    "    train_loader,valid_loader = fetch_dataloader(fold=0,df=df)\n",
    "    # train_loader,valid_loader = fetch_dataloader_ubiquatous()\n",
    "\n",
    "\n",
    "    model = build_model(config.model_name,True)\n",
    "    model.to(config.device)\n",
    "    print(config.device)\n",
    "    optimizer = optim.Adam(model.parameters(), lr=config.learning_rate, weight_decay=config.weight_decay)\n",
    "    scheduler = lr_scheduler.CosineAnnealingLR(optimizer,T_max=config.T_max, \n",
    "                                                    eta_min=5e-8)\n",
    "    model, history = run_training(model, optimizer, scheduler,device=config.device,num_epochs=config.max_epoch,train_loader=train_loader,valid_loader=valid_loader)"
   ]
  },
  {
   "attachments": {},
   "cell_type": "markdown",
   "metadata": {},
   "source": [
    "## tasks"
   ]
  },
  {
   "attachments": {},
   "cell_type": "markdown",
   "metadata": {},
   "source": [
    "soybean task"
   ]
  },
  {
   "cell_type": "code",
   "execution_count": 59,
   "metadata": {},
   "outputs": [],
   "source": [
    "soybean_task = {\n",
    "    # ********************vist*****************\n",
    "    \"ViST\":{\n",
    "        \"crop_name\":\"soybean\",\n",
    "        \"model_name\":\"ViST\",\n",
    "        \"wandb_name\":\"vist|大豆|290图像加传感器\",\n",
    "        \"sensor_only\":False,\n",
    "        \n",
    "    },\n",
    "    \"imageViST\":{\n",
    "        \"crop_name\":\"soybean\",\n",
    "        \"model_name\":\"imageViST\",\n",
    "        \"wandb_name\":\"vist|大豆|290仅图片\",\n",
    "        \"sensor_only\":True,\n",
    "    },\n",
    "    \"sensorViST\":{\n",
    "        \"crop_name\":\"soybean\",\n",
    "        \"model_name\":\"sensorViST\",\n",
    "        \"wandb_name\":\"vist|大豆|290仅传感器\",\n",
    "        \"sensor_only\":True,\n",
    "    },\n",
    "    # ********************vist2***************** self attn和cross attn混用\n",
    "    \"ViST2\":{\n",
    "        \"crop_name\":\"soybean\",\n",
    "        \"model_name\":\"ViST2\",\n",
    "        \"wandb_name\":\"vist|大豆|290图像加传感器\",\n",
    "        \"sensor_only\":False,\n",
    "        \n",
    "    },\n",
    "\n",
    "    # ********************vilt*****************\n",
    "    \"sensorViLOnlyTransformerSS\":{\n",
    "        \"crop_name\":\"soybean\",\n",
    "        \"model_name\":\"sensorViLOnlyTransformerSS\",\n",
    "        \"wandb_name\":\"vilt|大豆|290仅图片\",\n",
    "        \"sensor_only\":True,\n",
    "    },\n",
    "    \"sensorOnlyViLTransformerSS\":{\n",
    "        \"crop_name\":\"soybean\",\n",
    "        \"model_name\":\"sensorOnlyViLTransformerSS\",\n",
    "        \"wandb_name\":\"vilt|大豆|290仅传感器\",\n",
    "        \"sensor_only\":True,\n",
    "    },\n",
    "    \"sensorViLTransformerSS\":{\n",
    "        \"crop_name\":\"soybean\",\n",
    "        \"model_name\":\"sensorViLTransformerSS\",\n",
    "        \"wandb_name\":\"vilt|大豆|290图像加传感器\",\n",
    "        \"sensor_only\":False,\n",
    "    },\n",
    "\n",
    "    # ********************DNNF1*****************\n",
    "    \"DNNF1\":{\n",
    "        \"crop_name\":\"soybean\",\n",
    "        \"model_name\":\"DNNF1\",\n",
    "        \"wandb_name\":\"DNNF1|大豆|290图像加传感器\",\n",
    "        \"sensor_only\":False,\n",
    "    },\n",
    "    \"DNNF1PictureOnly\":{\n",
    "        \"crop_name\":\"soybean\",\n",
    "        \"model_name\":\"DNNF1PictureOnly\",\n",
    "        \"wandb_name\":\"DNNF1|大豆|290仅图像\",\n",
    "        \"sensor_only\":True,\n",
    "    },\n",
    "    \"DNNF1SensorOnly\":{\n",
    "        \"crop_name\":\"soybean\",\n",
    "        \"model_name\":\"DNNF1SensorOnly\",\n",
    "        \"wandb_name\":\"DNNF1|大豆|290仅传感器\",\n",
    "        \"sensor_only\":True,\n",
    "    },\n",
    "    # ********************DNNF2*****************\n",
    "    \"DNNF2\":{\n",
    "        \"crop_name\":\"soybean\",\n",
    "        \"model_name\":\"DNNF2\",\n",
    "        \"wandb_name\":\"DNNF2|大豆|290图像加传感器\",\n",
    "        \"sensor_only\":False,\n",
    "    },\n",
    "    \"DNNF2PictureOnly\":{\n",
    "        \"crop_name\":\"soybean\",\n",
    "        \"model_name\":\"DNNF2PictureOnly\",\n",
    "        \"wandb_name\":\"DNNF2|大豆|290仅图像\",\n",
    "        \"sensor_only\":True,\n",
    "    },\n",
    "    \"DNNF2SensorOnly\":{\n",
    "        \"crop_name\":\"soybean\",\n",
    "        \"model_name\":\"DNNF2SensorOnly\",\n",
    "        \"wandb_name\":\"DNNF2|大豆|290仅传感器\",\n",
    "        \"sensor_only\":True,\n",
    "    },\n",
    "\n",
    "    \"RiceFusionMLP\":{\n",
    "        \"crop_name\":\"soybean\",\n",
    "        \"model_name\":\"RiceFusionMLP\",\n",
    "        \"wandb_name\":\"RiceFusionMLP|大豆|290图像加传感器\",\n",
    "        \"sensor_only\":False,\n",
    "    },\n",
    "    \"RiceFusionCNN\":{\n",
    "        \"crop_name\":\"soybean\",\n",
    "        \"model_name\":\"RiceFusionCNN\",\n",
    "        \"wandb_name\":\"RiceFusionCNN|大豆|290图像加传感器\",\n",
    "        \"sensor_only\":False,\n",
    "    },\n",
    "    \"RiceFusion\":{\n",
    "        \"crop_name\":\"soybean\",\n",
    "        \"model_name\":\"RiceFusion\",\n",
    "        \"wandb_name\":\"RiceFusion|大豆|290图像加传感器\",\n",
    "        \"sensor_only\":False,\n",
    "    },\n",
    "\n",
    "    \n",
    "\n",
    "}\n"
   ]
  },
  {
   "attachments": {},
   "cell_type": "markdown",
   "metadata": {},
   "source": [
    "corn task"
   ]
  },
  {
   "cell_type": "code",
   "execution_count": 60,
   "metadata": {},
   "outputs": [],
   "source": [
    "corn_task = [\n",
    "    # ********************vist*****************\n",
    "    {\n",
    "        \"crop_name\":\"corn\",\n",
    "        \"model_name\":\"ViST\",\n",
    "        \"wandb_name\":\"vist|玉米|290图像加传感器\",\n",
    "        \"sensor_only\":False,\n",
    "    },\n",
    "    {\n",
    "        \"crop_name\":\"corn\",\n",
    "        \"model_name\":\"imageViST\",\n",
    "        \"wandb_name\":\"vist|玉米|290仅图片\",\n",
    "        \"sensor_only\":True,\n",
    "    },\n",
    "    {\n",
    "        \"crop_name\":\"corn\",\n",
    "        \"model_name\":\"sensorViST\",\n",
    "        \"wandb_name\":\"vist|玉米|290仅传感器\",\n",
    "        \"sensor_only\":True,\n",
    "    },\n",
    "    # ********************vist2*****************\n",
    "    {\n",
    "        \"crop_name\":\"corn\",\n",
    "        \"model_name\":\"ViST2\",\n",
    "        \"wandb_name\":\"vist|玉米|290图像加传感器\",\n",
    "        \"sensor_only\":False,\n",
    "    },\n",
    "    # ********************vilt*****************\n",
    "    {\n",
    "        \"crop_name\":\"corn\",\n",
    "        \"model_name\":\"sensorViLOnlyTransformerSS\",\n",
    "        \"wandb_name\":\"vilt|玉米|290仅图片\",\n",
    "        \"sensor_only\":True,\n",
    "    },\n",
    "    {\n",
    "        \"crop_name\":\"corn\",\n",
    "        \"model_name\":\"sensorOnlyViLTransformerSS\",\n",
    "        \"wandb_name\":\"vilt|玉米|290仅传感器\",\n",
    "        \"sensor_only\":True,\n",
    "    },\n",
    "    {\n",
    "        \"crop_name\":\"corn\",\n",
    "        \"model_name\":\"sensorViLTransformerSS\",\n",
    "        \"wandb_name\":\"vilt|玉米|290图像加传感器\",\n",
    "        \"sensor_only\":False,\n",
    "    },\n",
    "\n",
    "    # ********************DNNF1*****************\n",
    "    {\n",
    "        \"crop_name\":\"corn\",\n",
    "        \"model_name\":\"DNNF1\",\n",
    "        \"wandb_name\":\"DNNF1|玉米|290图像加传感器\",\n",
    "        \"sensor_only\":False,\n",
    "    },\n",
    "    {\n",
    "        \"crop_name\":\"corn\",\n",
    "        \"model_name\":\"DNNF1PictureOnly\",\n",
    "        \"wandb_name\":\"DNNF1|玉米|290仅图像\",\n",
    "        \"sensor_only\":True,\n",
    "    },\n",
    "    {\n",
    "        \"crop_name\":\"corn\",\n",
    "        \"model_name\":\"DNNF1SensorOnly\",\n",
    "        \"wandb_name\":\"DNNF1|玉米|290仅传感器\",\n",
    "        \"sensor_only\":True,\n",
    "    },\n",
    "    # ********************DNNF2*****************\n",
    "    {\n",
    "        \"crop_name\":\"corn\",\n",
    "        \"model_name\":\"DNNF2\",\n",
    "        \"wandb_name\":\"DNNF2|玉米|290图像加传感器\",\n",
    "        \"sensor_only\":False,\n",
    "    },\n",
    "    {\n",
    "        \"crop_name\":\"corn\",\n",
    "        \"model_name\":\"DNNF2PictureOnly\",\n",
    "        \"wandb_name\":\"DNNF2|玉米|290仅图像\",\n",
    "        \"sensor_only\":True,\n",
    "    },\n",
    "    {\n",
    "        \"crop_name\":\"corn\",\n",
    "        \"model_name\":\"DNNF2SensorOnly\",\n",
    "        \"wandb_name\":\"DNNF2|玉米|290仅传感器\",\n",
    "        \"sensor_only\":True,\n",
    "    },\n",
    "\n",
    "]\n"
   ]
  },
  {
   "attachments": {},
   "cell_type": "markdown",
   "metadata": {},
   "source": [
    "rice"
   ]
  },
  {
   "cell_type": "code",
   "execution_count": 61,
   "metadata": {},
   "outputs": [],
   "source": [
    "rice_task = [\n",
    "    # ********************vist*****************\n",
    "    {\n",
    "        \"crop_name\":\"rice\",\n",
    "        \"model_name\":\"ViST\",\n",
    "        \"wandb_name\":\"vist|水稻|290图像加传感器\",\n",
    "        \"sensor_only\":False,\n",
    "    },\n",
    "    {\n",
    "        \"crop_name\":\"rice\",\n",
    "        \"model_name\":\"imageViST\",\n",
    "        \"wandb_name\":\"vist|水稻|290仅图片\",\n",
    "        \"sensor_only\":True,\n",
    "    },\n",
    "    {\n",
    "        \"crop_name\":\"rice\",\n",
    "        \"model_name\":\"sensorViST\",\n",
    "        \"wandb_name\":\"vist|水稻|290仅传感器\",\n",
    "        \"sensor_only\":True,\n",
    "    },\n",
    "    # ********************vist2*****************\n",
    "    {\n",
    "        \"crop_name\":\"rice\",\n",
    "        \"model_name\":\"ViST2\",\n",
    "        \"wandb_name\":\"vist|水稻|290图像加传感器\",\n",
    "        \"sensor_only\":False,\n",
    "    },\n",
    "    # ********************vilt*****************\n",
    "    {\n",
    "        \"crop_name\":\"rice\",\n",
    "        \"model_name\":\"sensorViLOnlyTransformerSS\",\n",
    "        \"wandb_name\":\"vilt|水稻|290仅图片\",\n",
    "        \"sensor_only\":True,\n",
    "    },\n",
    "    {\n",
    "        \"crop_name\":\"rice\",\n",
    "        \"model_name\":\"sensorOnlyViLTransformerSS\",\n",
    "        \"wandb_name\":\"vilt|水稻|290仅传感器\",\n",
    "        \"sensor_only\":True,\n",
    "    },\n",
    "    {\n",
    "        \"crop_name\":\"rice\",\n",
    "        \"model_name\":\"sensorViLTransformerSS\",\n",
    "        \"wandb_name\":\"vilt|水稻|290图像加传感器\",\n",
    "        \"sensor_only\":False,\n",
    "    },\n",
    "\n",
    "    # ********************DNNF1*****************\n",
    "    {\n",
    "        \"crop_name\":\"rice\",\n",
    "        \"model_name\":\"DNNF1\",\n",
    "        \"wandb_name\":\"DNNF1|水稻|290图像加传感器\",\n",
    "        \"sensor_only\":False,\n",
    "    },\n",
    "    {\n",
    "        \"crop_name\":\"rice\",\n",
    "        \"model_name\":\"DNNF1PictureOnly\",\n",
    "        \"wandb_name\":\"DNNF1|水稻|290仅图像\",\n",
    "        \"sensor_only\":True,\n",
    "    },\n",
    "    {\n",
    "        \"crop_name\":\"rice\",\n",
    "        \"model_name\":\"DNNF1SensorOnly\",\n",
    "        \"wandb_name\":\"DNNF1|水稻|290仅传感器\",\n",
    "        \"sensor_only\":True,\n",
    "    },\n",
    "    # ********************DNNF2*****************\n",
    "    {\n",
    "        \"crop_name\":\"rice\",\n",
    "        \"model_name\":\"DNNF2\",\n",
    "        \"wandb_name\":\"DNNF2|水稻|290图像加传感器\",\n",
    "        \"sensor_only\":False,\n",
    "    },\n",
    "    {\n",
    "        \"crop_name\":\"rice\",\n",
    "        \"model_name\":\"DNNF2PictureOnly\",\n",
    "        \"wandb_name\":\"DNNF2|水稻|290仅图像\",\n",
    "        \"sensor_only\":True,\n",
    "    },\n",
    "    {\n",
    "        \"crop_name\":\"rice\",\n",
    "        \"model_name\":\"DNNF2SensorOnly\",\n",
    "        \"wandb_name\":\"DNNF2|水稻|290仅传感器\",\n",
    "        \"sensor_only\":True,\n",
    "    },\n",
    "\n",
    "]\n"
   ]
  },
  {
   "attachments": {},
   "cell_type": "markdown",
   "metadata": {},
   "source": [
    "total task"
   ]
  },
  {
   "cell_type": "code",
   "execution_count": 62,
   "metadata": {},
   "outputs": [],
   "source": [
    "total_task = {\n",
    "    # ********************vist*****************\n",
    "    \"ViST\":{\n",
    "        \"crop_name\":\"total\",\n",
    "        \"model_name\":\"ViST\",\n",
    "        \"wandb_name\":\"vist|大豆|290图像加传感器\",\n",
    "        \"sensor_only\":False,\n",
    "        \n",
    "    },\n",
    "    \"imageViST\":{\n",
    "        \"crop_name\":\"total\",\n",
    "        \"model_name\":\"imageViST\",\n",
    "        \"wandb_name\":\"vist|大豆|290仅图片\",\n",
    "        \"sensor_only\":True,\n",
    "    },\n",
    "    \"sensorViST\":{\n",
    "        \"crop_name\":\"total\",\n",
    "        \"model_name\":\"sensorViST\",\n",
    "        \"wandb_name\":\"vist|大豆|290仅传感器\",\n",
    "        \"sensor_only\":True,\n",
    "    },\n",
    "    # ********************vist2***************** self attn和cross attn混用\n",
    "    \"ViST2\":{\n",
    "        \"crop_name\":\"total\",\n",
    "        \"model_name\":\"ViST2\",\n",
    "        \"wandb_name\":\"vist|大豆|290图像加传感器\",\n",
    "        \"sensor_only\":False,\n",
    "        \n",
    "    },\n",
    "\n",
    "    # ********************vilt*****************\n",
    "    \"sensorViLOnlyTransformerSS\":{\n",
    "        \"crop_name\":\"total\",\n",
    "        \"model_name\":\"sensorViLOnlyTransformerSS\",\n",
    "        \"wandb_name\":\"vilt|大豆|290仅图片\",\n",
    "        \"sensor_only\":True,\n",
    "    },\n",
    "    \"sensorOnlyViLTransformerSS\":{\n",
    "        \"crop_name\":\"total\",\n",
    "        \"model_name\":\"sensorOnlyViLTransformerSS\",\n",
    "        \"wandb_name\":\"vilt|大豆|290仅传感器\",\n",
    "        \"sensor_only\":True,\n",
    "    },\n",
    "    \"sensorViLTransformerSS\":{\n",
    "        \"crop_name\":\"total\",\n",
    "        \"model_name\":\"sensorViLTransformerSS\",\n",
    "        \"wandb_name\":\"vilt|大豆|290图像加传感器\",\n",
    "        \"sensor_only\":False,\n",
    "    },\n",
    "\n",
    "    # ********************DNNF1*****************\n",
    "    \"DNNF1\":{\n",
    "        \"crop_name\":\"total\",\n",
    "        \"model_name\":\"DNNF1\",\n",
    "        \"wandb_name\":\"DNNF1|大豆|290图像加传感器\",\n",
    "        \"sensor_only\":False,\n",
    "    },\n",
    "    \"DNNF1PictureOnly\":{\n",
    "        \"crop_name\":\"total\",\n",
    "        \"model_name\":\"DNNF1PictureOnly\",\n",
    "        \"wandb_name\":\"DNNF1|大豆|290仅图像\",\n",
    "        \"sensor_only\":True,\n",
    "    },\n",
    "    \"DNNF1SensorOnly\":{\n",
    "        \"crop_name\":\"total\",\n",
    "        \"model_name\":\"DNNF1SensorOnly\",\n",
    "        \"wandb_name\":\"DNNF1|大豆|290仅传感器\",\n",
    "        \"sensor_only\":True,\n",
    "    },\n",
    "    # ********************DNNF2*****************\n",
    "    \"DNNF2\":{\n",
    "        \"crop_name\":\"total\",\n",
    "        \"model_name\":\"DNNF2\",\n",
    "        \"wandb_name\":\"DNNF2|大豆|290图像加传感器\",\n",
    "        \"sensor_only\":False,\n",
    "    },\n",
    "    \"DNNF2PictureOnly\":{\n",
    "        \"crop_name\":\"total\",\n",
    "        \"model_name\":\"DNNF2PictureOnly\",\n",
    "        \"wandb_name\":\"DNNF2|普适|290仅图像\",\n",
    "        \"sensor_only\":True,\n",
    "    },\n",
    "    \"DNNF2SensorOnly\":{\n",
    "        \"crop_name\":\"total\",\n",
    "        \"model_name\":\"DNNF2SensorOnly\",\n",
    "        \"wandb_name\":\"DNNF2|普适|290仅传感器\",\n",
    "        \"sensor_only\":True,\n",
    "    },\n",
    "\n",
    "    \"RiceFusionMLP\":{\n",
    "        \"crop_name\":\"total\",\n",
    "        \"model_name\":\"RiceFusionMLP\",\n",
    "        \"wandb_name\":\"RiceFusionMLP|普适|290图像加传感器\",\n",
    "        \"sensor_only\":False,\n",
    "    },\n",
    "    \"RiceFusionCNN\":{\n",
    "        \"crop_name\":\"total\",\n",
    "        \"model_name\":\"RiceFusionCNN\",\n",
    "        \"wandb_name\":\"RiceFusionCNN|普适|290图像加传感器\",\n",
    "        \"sensor_only\":False,\n",
    "    },\n",
    "    \"RiceFusion\":{\n",
    "        \"crop_name\":\"total\",\n",
    "        \"model_name\":\"RiceFusion\",\n",
    "        \"wandb_name\":\"RiceFusion|普适|290图像加传感器\",\n",
    "        \"sensor_only\":False,\n",
    "    },\n",
    "\n",
    "    \n",
    "\n",
    "}\n"
   ]
  },
  {
   "attachments": {},
   "cell_type": "markdown",
   "metadata": {},
   "source": [
    "run task\n"
   ]
  },
  {
   "cell_type": "code",
   "execution_count": 63,
   "metadata": {},
   "outputs": [
    {
     "name": "stdout",
     "output_type": "stream",
     "text": [
      "fold\n",
      "0.0    20\n",
      "1.0    20\n",
      "2.0    20\n",
      "3.0    20\n",
      "4.0    20\n",
      "Name: label, dtype: int64\n",
      "train_df.shape: (80, 30)\n",
      "valid_df.shape: (20, 30)\n",
      "cuda:0\n"
     ]
    },
    {
     "name": "stderr",
     "output_type": "stream",
     "text": [
      "/home/junsheng/.conda/envs/pytorch_junsheng_39/lib/python3.9/site-packages/sklearn/model_selection/_split.py:684: UserWarning: The least populated class in y has only 1 members, which is less than n_splits=5.\n",
      "  warnings.warn(\n"
     ]
    },
    {
     "data": {
      "text/html": [
       "Finishing last run (ID:ryett3al) before initializing another..."
      ],
      "text/plain": [
       "<IPython.core.display.HTML object>"
      ]
     },
     "metadata": {},
     "output_type": "display_data"
    },
    {
     "data": {
      "text/html": [
       "Waiting for W&B process to finish... <strong style=\"color:green\">(success).</strong>"
      ],
      "text/plain": [
       "<IPython.core.display.HTML object>"
      ]
     },
     "metadata": {},
     "output_type": "display_data"
    },
    {
     "data": {
      "text/html": [
       "<style>\n",
       "    table.wandb td:nth-child(1) { padding: 0 10px; text-align: left ; width: auto;} td:nth-child(2) {text-align: left ; width: 100%}\n",
       "    .wandb-row { display: flex; flex-direction: row; flex-wrap: wrap; justify-content: flex-start; width: 100% }\n",
       "    .wandb-col { display: flex; flex-direction: column; flex-basis: 100%; flex: 1; padding: 10px; }\n",
       "    </style>\n",
       "<div class=\"wandb-row\"><div class=\"wandb-col\"><h3>Run history:</h3><br/><table class=\"wandb\"><tr><td>Train Loss</td><td>█▁▁</td></tr><tr><td>Valid Loss</td><td>▄█▁</td></tr><tr><td>Valid Loss MAE</td><td>▄█▁</td></tr><tr><td>Valid Loss MAPE</td><td>▁█▃</td></tr><tr><td>Valid Loss SMAPE</td><td>██▁</td></tr><tr><td>lr</td><td>█▅▁</td></tr></table><br/></div><div class=\"wandb-col\"><h3>Run summary:</h3><br/><table class=\"wandb\"><tr><td>Best Epoch</td><td>3</td></tr><tr><td>Train Loss</td><td>0.00471</td></tr><tr><td>Valid Loss</td><td>0.00324</td></tr><tr><td>Valid Loss MAE</td><td>0.04586</td></tr><tr><td>Valid Loss MAPE</td><td>0.80298</td></tr><tr><td>Valid Loss SMAPE</td><td>36.61484</td></tr><tr><td>lr</td><td>5e-05</td></tr></table><br/></div></div>"
      ],
      "text/plain": [
       "<IPython.core.display.HTML object>"
      ]
     },
     "metadata": {},
     "output_type": "display_data"
    },
    {
     "data": {
      "text/html": [
       "You can sync this run to the cloud by running:<br/><code>wandb sync /home/junsheng/ViLT/wandb/offline-run-20230512_203039-ryett3al<code>"
      ],
      "text/plain": [
       "<IPython.core.display.HTML object>"
      ]
     },
     "metadata": {},
     "output_type": "display_data"
    },
    {
     "data": {
      "text/html": [
       "Find logs at: <code>./wandb/offline-run-20230512_203039-ryett3al/logs</code>"
      ],
      "text/plain": [
       "<IPython.core.display.HTML object>"
      ]
     },
     "metadata": {},
     "output_type": "display_data"
    },
    {
     "data": {
      "text/html": [
       "Successfully finished last run (ID:ryett3al). Initializing new run:<br/>"
      ],
      "text/plain": [
       "<IPython.core.display.HTML object>"
      ]
     },
     "metadata": {},
     "output_type": "display_data"
    },
    {
     "data": {
      "text/html": [
       "Tracking run with wandb version 0.13.1"
      ],
      "text/plain": [
       "<IPython.core.display.HTML object>"
      ]
     },
     "metadata": {},
     "output_type": "display_data"
    },
    {
     "data": {
      "text/html": [
       "W&B syncing is set to <code>`offline`<code> in this directory.  <br/>Run <code>`wandb online`<code> or set <code>WANDB_MODE=online<code> to enable cloud syncing."
      ],
      "text/plain": [
       "<IPython.core.display.HTML object>"
      ]
     },
     "metadata": {},
     "output_type": "display_data"
    },
    {
     "name": "stdout",
     "output_type": "stream",
     "text": [
      "cuda: NVIDIA GeForce RTX 3090\n",
      "\n",
      "Epoch 1/5"
     ]
    },
    {
     "name": "stderr",
     "output_type": "stream",
     "text": [
      "Train :   0%|          | 0/3 [00:00<?, ?it/s]/tmp/ipykernel_1123719/3627136029.py:35: UserWarning: To copy construct from a tensor, it is recommended to use sourceTensor.clone().detach() or sourceTensor.clone().detach().requires_grad_(True), rather than torch.tensor(sourceTensor).\n",
      "  return torch.tensor(img).to(torch.float), torch.tensor(sensor).to(torch.float),torch.tensor(label).to(torch.float)\n",
      "Train : 100%|██████████| 3/3 [00:04<00:00,  1.52s/it, gpu_mem=7.05 GB, lr=0.00005, train_loss=0.0280]\n",
      "Valid :  20%|██        | 1/5 [00:00<00:00,  4.06it/s, gpu_memory=1.73 GB, lr=0.00005, valid_loss_mae=0.0517, valid_loss_mape=0.5386, valid_loss_mse=0.0049, valid_loss_smape=87.6676]/tmp/ipykernel_1123719/3627136029.py:35: UserWarning: To copy construct from a tensor, it is recommended to use sourceTensor.clone().detach() or sourceTensor.clone().detach().requires_grad_(True), rather than torch.tensor(sourceTensor).\n",
      "  return torch.tensor(img).to(torch.float), torch.tensor(sensor).to(torch.float),torch.tensor(label).to(torch.float)\n",
      "Valid :  40%|████      | 2/5 [00:00<00:00,  4.16it/s, gpu_memory=1.73 GB, lr=0.00005, valid_loss_mae=0.1234, valid_loss_mape=0.7310, valid_loss_mse=0.0216, valid_loss_smape=129.6147]/tmp/ipykernel_1123719/3627136029.py:35: UserWarning: To copy construct from a tensor, it is recommended to use sourceTensor.clone().detach() or sourceTensor.clone().detach().requires_grad_(True), rather than torch.tensor(sourceTensor).\n",
      "  return torch.tensor(img).to(torch.float), torch.tensor(sensor).to(torch.float),torch.tensor(label).to(torch.float)\n",
      "Valid :  60%|██████    | 3/5 [00:00<00:00,  4.65it/s, gpu_memory=1.73 GB, lr=0.00005, valid_loss_mae=0.1301, valid_loss_mape=0.7830, valid_loss_mse=0.0217, valid_loss_smape=139.5792]/tmp/ipykernel_1123719/3627136029.py:35: UserWarning: To copy construct from a tensor, it is recommended to use sourceTensor.clone().detach() or sourceTensor.clone().detach().requires_grad_(True), rather than torch.tensor(sourceTensor).\n",
      "  return torch.tensor(img).to(torch.float), torch.tensor(sensor).to(torch.float),torch.tensor(label).to(torch.float)\n",
      "Valid :  80%|████████  | 4/5 [00:00<00:00,  4.60it/s, gpu_memory=1.73 GB, lr=0.00005, valid_loss_mae=0.1209, valid_loss_mape=0.7981, valid_loss_mse=0.0185, valid_loss_smape=141.1790]/tmp/ipykernel_1123719/3627136029.py:35: UserWarning: To copy construct from a tensor, it is recommended to use sourceTensor.clone().detach() or sourceTensor.clone().detach().requires_grad_(True), rather than torch.tensor(sourceTensor).\n",
      "  return torch.tensor(img).to(torch.float), torch.tensor(sensor).to(torch.float),torch.tensor(label).to(torch.float)\n",
      "Valid : 100%|██████████| 5/5 [00:01<00:00,  4.52it/s, gpu_memory=1.73 GB, lr=0.00005, valid_loss_mae=0.1249, valid_loss_mape=0.8172, valid_loss_mse=0.0188, valid_loss_smape=145.2620]\n"
     ]
    },
    {
     "name": "stdout",
     "output_type": "stream",
     "text": [
      "Epoch 2/5"
     ]
    },
    {
     "name": "stderr",
     "output_type": "stream",
     "text": [
      "Train :   0%|          | 0/3 [00:00<?, ?it/s]/tmp/ipykernel_1123719/3627136029.py:35: UserWarning: To copy construct from a tensor, it is recommended to use sourceTensor.clone().detach() or sourceTensor.clone().detach().requires_grad_(True), rather than torch.tensor(sourceTensor).\n",
      "  return torch.tensor(img).to(torch.float), torch.tensor(sensor).to(torch.float),torch.tensor(label).to(torch.float)\n",
      "Train : 100%|██████████| 3/3 [00:04<00:00,  1.51s/it, gpu_mem=1.73 GB, lr=0.00005, train_loss=0.0182]\n",
      "Valid :  20%|██        | 1/5 [00:00<00:00,  4.02it/s, gpu_memory=1.73 GB, lr=0.00005, valid_loss_mae=0.0471, valid_loss_mape=0.9585, valid_loss_mse=0.0026, valid_loss_smape=80.2691]/tmp/ipykernel_1123719/3627136029.py:35: UserWarning: To copy construct from a tensor, it is recommended to use sourceTensor.clone().detach() or sourceTensor.clone().detach().requires_grad_(True), rather than torch.tensor(sourceTensor).\n",
      "  return torch.tensor(img).to(torch.float), torch.tensor(sensor).to(torch.float),torch.tensor(label).to(torch.float)\n",
      "Valid :  40%|████      | 2/5 [00:00<00:00,  4.12it/s, gpu_memory=1.73 GB, lr=0.00005, valid_loss_mae=0.1045, valid_loss_mape=0.8617, valid_loss_mse=0.0146, valid_loss_smape=102.1010]/tmp/ipykernel_1123719/3627136029.py:35: UserWarning: To copy construct from a tensor, it is recommended to use sourceTensor.clone().detach() or sourceTensor.clone().detach().requires_grad_(True), rather than torch.tensor(sourceTensor).\n",
      "  return torch.tensor(img).to(torch.float), torch.tensor(sensor).to(torch.float),torch.tensor(label).to(torch.float)\n",
      "Valid :  60%|██████    | 3/5 [00:00<00:00,  4.57it/s, gpu_memory=1.73 GB, lr=0.00005, valid_loss_mae=0.1058, valid_loss_mape=0.7940, valid_loss_mse=0.0140, valid_loss_smape=101.0687]/tmp/ipykernel_1123719/3627136029.py:35: UserWarning: To copy construct from a tensor, it is recommended to use sourceTensor.clone().detach() or sourceTensor.clone().detach().requires_grad_(True), rather than torch.tensor(sourceTensor).\n",
      "  return torch.tensor(img).to(torch.float), torch.tensor(sensor).to(torch.float),torch.tensor(label).to(torch.float)\n",
      "Valid :  80%|████████  | 4/5 [00:00<00:00,  4.53it/s, gpu_memory=1.73 GB, lr=0.00005, valid_loss_mae=0.0939, valid_loss_mape=0.7256, valid_loss_mse=0.0114, valid_loss_smape=93.5385] /tmp/ipykernel_1123719/3627136029.py:35: UserWarning: To copy construct from a tensor, it is recommended to use sourceTensor.clone().detach() or sourceTensor.clone().detach().requires_grad_(True), rather than torch.tensor(sourceTensor).\n",
      "  return torch.tensor(img).to(torch.float), torch.tensor(sensor).to(torch.float),torch.tensor(label).to(torch.float)\n",
      "Valid : 100%|██████████| 5/5 [00:01<00:00,  4.46it/s, gpu_memory=1.73 GB, lr=0.00005, valid_loss_mae=0.0965, valid_loss_mape=0.7152, valid_loss_mse=0.0115, valid_loss_smape=95.1803]\n"
     ]
    },
    {
     "name": "stdout",
     "output_type": "stream",
     "text": [
      "Epoch 3/5"
     ]
    },
    {
     "name": "stderr",
     "output_type": "stream",
     "text": [
      "Train :   0%|          | 0/3 [00:00<?, ?it/s]/tmp/ipykernel_1123719/3627136029.py:35: UserWarning: To copy construct from a tensor, it is recommended to use sourceTensor.clone().detach() or sourceTensor.clone().detach().requires_grad_(True), rather than torch.tensor(sourceTensor).\n",
      "  return torch.tensor(img).to(torch.float), torch.tensor(sensor).to(torch.float),torch.tensor(label).to(torch.float)\n",
      "Train : 100%|██████████| 3/3 [00:04<00:00,  1.52s/it, gpu_mem=1.73 GB, lr=0.00005, train_loss=0.0109]\n",
      "Valid :  20%|██        | 1/5 [00:00<00:00,  4.03it/s, gpu_memory=1.73 GB, lr=0.00005, valid_loss_mae=0.0472, valid_loss_mape=1.5733, valid_loss_mse=0.0024, valid_loss_smape=75.9587]/tmp/ipykernel_1123719/3627136029.py:35: UserWarning: To copy construct from a tensor, it is recommended to use sourceTensor.clone().detach() or sourceTensor.clone().detach().requires_grad_(True), rather than torch.tensor(sourceTensor).\n",
      "  return torch.tensor(img).to(torch.float), torch.tensor(sensor).to(torch.float),torch.tensor(label).to(torch.float)\n",
      "Valid :  40%|████      | 2/5 [00:00<00:00,  4.13it/s, gpu_memory=1.73 GB, lr=0.00005, valid_loss_mae=0.0884, valid_loss_mape=1.0922, valid_loss_mse=0.0098, valid_loss_smape=82.0737]/tmp/ipykernel_1123719/3627136029.py:35: UserWarning: To copy construct from a tensor, it is recommended to use sourceTensor.clone().detach() or sourceTensor.clone().detach().requires_grad_(True), rather than torch.tensor(sourceTensor).\n",
      "  return torch.tensor(img).to(torch.float), torch.tensor(sensor).to(torch.float),torch.tensor(label).to(torch.float)\n",
      "Valid :  60%|██████    | 3/5 [00:00<00:00,  4.62it/s, gpu_memory=1.73 GB, lr=0.00005, valid_loss_mae=0.0835, valid_loss_mape=0.8727, valid_loss_mse=0.0087, valid_loss_smape=73.6345]/tmp/ipykernel_1123719/3627136029.py:35: UserWarning: To copy construct from a tensor, it is recommended to use sourceTensor.clone().detach() or sourceTensor.clone().detach().requires_grad_(True), rather than torch.tensor(sourceTensor).\n",
      "  return torch.tensor(img).to(torch.float), torch.tensor(sensor).to(torch.float),torch.tensor(label).to(torch.float)\n",
      "Valid :  80%|████████  | 4/5 [00:00<00:00,  4.57it/s, gpu_memory=1.73 GB, lr=0.00005, valid_loss_mae=0.0687, valid_loss_mape=0.7061, valid_loss_mse=0.0067, valid_loss_smape=61.2039]/tmp/ipykernel_1123719/3627136029.py:35: UserWarning: To copy construct from a tensor, it is recommended to use sourceTensor.clone().detach() or sourceTensor.clone().detach().requires_grad_(True), rather than torch.tensor(sourceTensor).\n",
      "  return torch.tensor(img).to(torch.float), torch.tensor(sensor).to(torch.float),torch.tensor(label).to(torch.float)\n",
      "Valid : 100%|██████████| 5/5 [00:01<00:00,  4.49it/s, gpu_memory=1.73 GB, lr=0.00005, valid_loss_mae=0.0697, valid_loss_mape=0.6571, valid_loss_mse=0.0065, valid_loss_smape=61.0307]\n"
     ]
    },
    {
     "name": "stdout",
     "output_type": "stream",
     "text": [
      "Epoch 4/5"
     ]
    },
    {
     "name": "stderr",
     "output_type": "stream",
     "text": [
      "Train :   0%|          | 0/3 [00:00<?, ?it/s]/tmp/ipykernel_1123719/3627136029.py:35: UserWarning: To copy construct from a tensor, it is recommended to use sourceTensor.clone().detach() or sourceTensor.clone().detach().requires_grad_(True), rather than torch.tensor(sourceTensor).\n",
      "  return torch.tensor(img).to(torch.float), torch.tensor(sensor).to(torch.float),torch.tensor(label).to(torch.float)\n",
      "Train : 100%|██████████| 3/3 [00:04<00:00,  1.51s/it, gpu_mem=1.73 GB, lr=0.00005, train_loss=0.0062]\n",
      "Valid :  20%|██        | 1/5 [00:00<00:00,  4.05it/s, gpu_memory=1.73 GB, lr=0.00005, valid_loss_mae=0.0472, valid_loss_mape=2.1655, valid_loss_mse=0.0042, valid_loss_smape=69.5091]/tmp/ipykernel_1123719/3627136029.py:35: UserWarning: To copy construct from a tensor, it is recommended to use sourceTensor.clone().detach() or sourceTensor.clone().detach().requires_grad_(True), rather than torch.tensor(sourceTensor).\n",
      "  return torch.tensor(img).to(torch.float), torch.tensor(sensor).to(torch.float),torch.tensor(label).to(torch.float)\n",
      "Valid :  40%|████      | 2/5 [00:00<00:00,  4.15it/s, gpu_memory=1.73 GB, lr=0.00005, valid_loss_mae=0.0729, valid_loss_mape=1.3141, valid_loss_mse=0.0071, valid_loss_smape=64.9901]/tmp/ipykernel_1123719/3627136029.py:35: UserWarning: To copy construct from a tensor, it is recommended to use sourceTensor.clone().detach() or sourceTensor.clone().detach().requires_grad_(True), rather than torch.tensor(sourceTensor).\n",
      "  return torch.tensor(img).to(torch.float), torch.tensor(sensor).to(torch.float),torch.tensor(label).to(torch.float)\n",
      "Valid :  60%|██████    | 3/5 [00:00<00:00,  4.65it/s, gpu_memory=1.73 GB, lr=0.00005, valid_loss_mae=0.0622, valid_loss_mape=0.9494, valid_loss_mse=0.0057, valid_loss_smape=52.1638]/tmp/ipykernel_1123719/3627136029.py:35: UserWarning: To copy construct from a tensor, it is recommended to use sourceTensor.clone().detach() or sourceTensor.clone().detach().requires_grad_(True), rather than torch.tensor(sourceTensor).\n",
      "  return torch.tensor(img).to(torch.float), torch.tensor(sensor).to(torch.float),torch.tensor(label).to(torch.float)\n",
      "Valid :  80%|████████  | 4/5 [00:00<00:00,  4.61it/s, gpu_memory=1.73 GB, lr=0.00005, valid_loss_mae=0.0510, valid_loss_mape=0.7529, valid_loss_mse=0.0043, valid_loss_smape=42.9449]/tmp/ipykernel_1123719/3627136029.py:35: UserWarning: To copy construct from a tensor, it is recommended to use sourceTensor.clone().detach() or sourceTensor.clone().detach().requires_grad_(True), rather than torch.tensor(sourceTensor).\n",
      "  return torch.tensor(img).to(torch.float), torch.tensor(sensor).to(torch.float),torch.tensor(label).to(torch.float)\n",
      "Valid : 100%|██████████| 5/5 [00:01<00:00,  4.52it/s, gpu_memory=1.73 GB, lr=0.00005, valid_loss_mae=0.0490, valid_loss_mape=0.6530, valid_loss_mse=0.0039, valid_loss_smape=40.2606]\n"
     ]
    },
    {
     "name": "stdout",
     "output_type": "stream",
     "text": [
      "Epoch 5/5"
     ]
    },
    {
     "name": "stderr",
     "output_type": "stream",
     "text": [
      "Train :   0%|          | 0/3 [00:00<?, ?it/s]/tmp/ipykernel_1123719/3627136029.py:35: UserWarning: To copy construct from a tensor, it is recommended to use sourceTensor.clone().detach() or sourceTensor.clone().detach().requires_grad_(True), rather than torch.tensor(sourceTensor).\n",
      "  return torch.tensor(img).to(torch.float), torch.tensor(sensor).to(torch.float),torch.tensor(label).to(torch.float)\n",
      "Train : 100%|██████████| 3/3 [00:04<00:00,  1.52s/it, gpu_mem=1.73 GB, lr=0.00005, train_loss=0.0037]\n",
      "Valid :  20%|██        | 1/5 [00:00<00:00,  4.03it/s, gpu_memory=1.73 GB, lr=0.00005, valid_loss_mae=0.0725, valid_loss_mape=2.9218, valid_loss_mse=0.0075, valid_loss_smape=83.6412]/tmp/ipykernel_1123719/3627136029.py:35: UserWarning: To copy construct from a tensor, it is recommended to use sourceTensor.clone().detach() or sourceTensor.clone().detach().requires_grad_(True), rather than torch.tensor(sourceTensor).\n",
      "  return torch.tensor(img).to(torch.float), torch.tensor(sensor).to(torch.float),torch.tensor(label).to(torch.float)\n",
      "Valid :  40%|████      | 2/5 [00:00<00:00,  4.12it/s, gpu_memory=1.73 GB, lr=0.00005, valid_loss_mae=0.0714, valid_loss_mape=1.6249, valid_loss_mse=0.0064, valid_loss_smape=61.6060]/tmp/ipykernel_1123719/3627136029.py:35: UserWarning: To copy construct from a tensor, it is recommended to use sourceTensor.clone().detach() or sourceTensor.clone().detach().requires_grad_(True), rather than torch.tensor(sourceTensor).\n",
      "  return torch.tensor(img).to(torch.float), torch.tensor(sensor).to(torch.float),torch.tensor(label).to(torch.float)\n",
      "Valid :  60%|██████    | 3/5 [00:00<00:00,  4.61it/s, gpu_memory=1.73 GB, lr=0.00005, valid_loss_mae=0.0585, valid_loss_mape=1.1494, valid_loss_mse=0.0047, valid_loss_smape=47.9166]/tmp/ipykernel_1123719/3627136029.py:35: UserWarning: To copy construct from a tensor, it is recommended to use sourceTensor.clone().detach() or sourceTensor.clone().detach().requires_grad_(True), rather than torch.tensor(sourceTensor).\n",
      "  return torch.tensor(img).to(torch.float), torch.tensor(sensor).to(torch.float),torch.tensor(label).to(torch.float)\n",
      "Valid :  80%|████████  | 4/5 [00:00<00:00,  4.58it/s, gpu_memory=1.73 GB, lr=0.00005, valid_loss_mae=0.0534, valid_loss_mape=0.9550, valid_loss_mse=0.0039, valid_loss_smape=43.4864]/tmp/ipykernel_1123719/3627136029.py:35: UserWarning: To copy construct from a tensor, it is recommended to use sourceTensor.clone().detach() or sourceTensor.clone().detach().requires_grad_(True), rather than torch.tensor(sourceTensor).\n",
      "  return torch.tensor(img).to(torch.float), torch.tensor(sensor).to(torch.float),torch.tensor(label).to(torch.float)\n",
      "Valid : 100%|██████████| 5/5 [00:01<00:00,  4.50it/s, gpu_memory=1.73 GB, lr=0.00005, valid_loss_mae=0.0462, valid_loss_mape=0.7855, valid_loss_mse=0.0032, valid_loss_smape=37.0519]\n"
     ]
    },
    {
     "data": {
      "text/html": [
       "Waiting for W&B process to finish... <strong style=\"color:green\">(success).</strong>"
      ],
      "text/plain": [
       "<IPython.core.display.HTML object>"
      ]
     },
     "metadata": {},
     "output_type": "display_data"
    },
    {
     "data": {
      "text/html": [
       "<style>\n",
       "    table.wandb td:nth-child(1) { padding: 0 10px; text-align: left ; width: auto;} td:nth-child(2) {text-align: left ; width: 100%}\n",
       "    .wandb-row { display: flex; flex-direction: row; flex-wrap: wrap; justify-content: flex-start; width: 100% }\n",
       "    .wandb-col { display: flex; flex-direction: column; flex-basis: 100%; flex: 1; padding: 10px; }\n",
       "    </style>\n",
       "<div class=\"wandb-row\"><div class=\"wandb-col\"><h3>Run history:</h3><br/><table class=\"wandb\"><tr><td>Train Loss</td><td>█▅▃▂▁</td></tr><tr><td>Valid Loss</td><td>█▅▂▁▁</td></tr><tr><td>Valid Loss MAE</td><td>█▅▃▁▁</td></tr><tr><td>Valid Loss MAPE</td><td>█▄▁▁▇</td></tr><tr><td>Valid Loss SMAPE</td><td>█▅▃▁▁</td></tr><tr><td>lr</td><td>█▇▆▄▁</td></tr></table><br/></div><div class=\"wandb-col\"><h3>Run summary:</h3><br/><table class=\"wandb\"><tr><td>Best Epoch</td><td>5</td></tr><tr><td>Train Loss</td><td>0.00366</td></tr><tr><td>Valid Loss</td><td>0.00322</td></tr><tr><td>Valid Loss MAE</td><td>0.04624</td></tr><tr><td>Valid Loss MAPE</td><td>0.78546</td></tr><tr><td>Valid Loss SMAPE</td><td>37.05189</td></tr><tr><td>lr</td><td>5e-05</td></tr></table><br/></div></div>"
      ],
      "text/plain": [
       "<IPython.core.display.HTML object>"
      ]
     },
     "metadata": {},
     "output_type": "display_data"
    },
    {
     "data": {
      "text/html": [
       "You can sync this run to the cloud by running:<br/><code>wandb sync /home/junsheng/ViLT/wandb/offline-run-20230512_203114-qd63ivmr<code>"
      ],
      "text/plain": [
       "<IPython.core.display.HTML object>"
      ]
     },
     "metadata": {},
     "output_type": "display_data"
    },
    {
     "data": {
      "text/html": [
       "Find logs at: <code>./wandb/offline-run-20230512_203114-qd63ivmr/logs</code>"
      ],
      "text/plain": [
       "<IPython.core.display.HTML object>"
      ]
     },
     "metadata": {},
     "output_type": "display_data"
    }
   ],
   "source": [
    "\n",
    "config.T_max = 7237.5\n",
    "config.learning_rate = 0.0005\n",
    "task = total_task[\"DNNF2\"]\n",
    "run(task[\"crop_name\"],task[\"model_name\"],task[\"wandb_name\"],task[\"sensor_only\"])\n",
    "\n",
    "config.T_max = 7237.5\n",
    "config.learning_rate = 0.00005\n",
    "task = total_task[\"DNNF2PictureOnly\"]\n",
    "run(task[\"crop_name\"],task[\"model_name\"],task[\"wandb_name\"],task[\"sensor_only\"])\n",
    "\n",
    "\n",
    "# config.T_max = 7237.5\n",
    "# config.learning_rate = 0.00005\n",
    "# task = total_task[\"DNNF2SensorOnly\"]\n",
    "# run(task[\"crop_name\"],task[\"model_name\"],task[\"wandb_name\"],task[\"sensor_only\"])\n",
    "\n",
    "\n",
    "\n"
   ]
  },
  {
   "attachments": {},
   "cell_type": "markdown",
   "metadata": {},
   "source": [
    "#  test\n"
   ]
  },
  {
   "cell_type": "code",
   "execution_count": 64,
   "metadata": {},
   "outputs": [
    {
     "ename": "",
     "evalue": "",
     "output_type": "error",
     "traceback": [
      "\u001b[1;31m在当前单元格或上一个单元格中执行代码时 Kernel 崩溃。请查看单元格中的代码，以确定故障的可能原因。有关详细信息，请单击 <a href='https://aka.ms/vscodeJupyterKernelCrash'>此处</a>。有关更多详细信息，请查看 Jupyter <a href='command:jupyter.viewOutput'>log</a>。"
     ]
    }
   ],
   "source": [
    "def test():\n",
    "    model = build_model(\"ViST\",True)\n",
    "    state_dict = torch.load('/home/junsheng/ViLT/wandb/run-20230111_141431-tb52bngc/files/epoch-best.bin')\n",
    "    model.load_state_dict(state_dict)\n",
    "    model.to(config.device)\n",
    "    test_df = pd.read_csv(\"/home/junsheng/ViLT/data/ubiquitous_soybean.csv\")\n",
    "    tianhang_sensor = ['co2', 'stemp', 'stemp2', 'stemp3', 'stemp5', 'shumi', 'shumi2', 'shumi3', 'shumi5', 'humi', 'pm10', 'pm25', 'press', 'solar', 'temp', 'wind_d', 'wind_sp']\n",
    "    test_df['sensor'] = test_df[tianhang_sensor].values.tolist()\n",
    "    test_data = BuildDataset(df=test_df,label=True)\n",
    "    test_loader = DataLoader(test_data, batch_size=config.valid_batch_size,shuffle=False)\n",
    "    val_loss,val_loss_mae,val_loss_smape,val_loss_mape = valid_one_epoch(model,test_loader,device=config.device) # # epoch_loss,epoch_loss_mae,epoch_loss_smape,epoch_loss_mape"
   ]
  }
 ],
 "metadata": {
  "kernelspec": {
   "display_name": "pytorch_junsheng_39",
   "language": "python",
   "name": "python3"
  },
  "language_info": {
   "codemirror_mode": {
    "name": "ipython",
    "version": 3
   },
   "file_extension": ".py",
   "mimetype": "text/x-python",
   "name": "python",
   "nbconvert_exporter": "python",
   "pygments_lexer": "ipython3",
   "version": "3.9.12"
  },
  "orig_nbformat": 4,
  "vscode": {
   "interpreter": {
    "hash": "29fd19f11c6b89e267402bb3227bc1208f7e2c9719aa03eba13baf7684fe5867"
   }
  }
 },
 "nbformat": 4,
 "nbformat_minor": 2
}
