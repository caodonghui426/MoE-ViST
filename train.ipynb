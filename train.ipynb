{
 "cells": [
  {
   "cell_type": "markdown",
   "id": "c4e9af58",
   "metadata": {},
   "source": [
    "# 导包"
   ]
  },
  {
   "cell_type": "code",
   "execution_count": 1,
   "id": "abe7d9a7-cefb-4b79-9779-2c8ab7b0339c",
   "metadata": {},
   "outputs": [
    {
     "name": "stderr",
     "output_type": "stream",
     "text": [
      "/opt/anaconda3/envs/pytorch_junsheng_39/lib/python3.9/site-packages/tqdm/auto.py:22: TqdmWarning: IProgress not found. Please update jupyter and ipywidgets. See https://ipywidgets.readthedocs.io/en/stable/user_install.html\n",
      "  from .autonotebook import tqdm as notebook_tqdm\n"
     ]
    }
   ],
   "source": [
    "import pandas as pd\n",
    "import numpy as np\n",
    "from PIL import Image\n",
    "from matplotlib import pyplot as plt\n",
    "import random\n",
    "import os\n",
    "from sklearn import metrics\n",
    "from torch.utils.data import Dataset, DataLoader\n",
    "from torchvision import transforms, utils\n",
    "from sklearn.model_selection import StratifiedKFold, KFold\n",
    "\n",
    "import torch\n",
    "from torch import nn, optim\n",
    "\n",
    "from torchvision import datasets, transforms\n",
    "\n",
    "import albumentations as A\n",
    "import cv2\n",
    "import gc\n"
   ]
  },
  {
   "cell_type": "code",
   "execution_count": 2,
   "id": "c5fad5a2-067d-4809-a0d4-d5deef26005d",
   "metadata": {},
   "outputs": [
    {
     "name": "stdout",
     "output_type": "stream",
     "text": [
      "1.12.0\n",
      "True\n",
      "2\n",
      "NVIDIA GeForce RTX 3090\n"
     ]
    }
   ],
   "source": [
    "print(torch.__version__)\n",
    "print(torch.cuda.is_available())\n",
    "print(torch.cuda.device_count())\n",
    "print(torch.cuda.get_device_name(0))"
   ]
  },
  {
   "cell_type": "markdown",
   "id": "f3ef545a",
   "metadata": {},
   "source": [
    "# wandb"
   ]
  },
  {
   "cell_type": "code",
   "execution_count": 3,
   "id": "99aba16e",
   "metadata": {},
   "outputs": [
    {
     "name": "stderr",
     "output_type": "stream",
     "text": [
      "Failed to detect the name of this notebook, you can set it manually with the WANDB_NOTEBOOK_NAME environment variable to enable code saving.\n",
      "\u001b[34m\u001b[1mwandb\u001b[0m: Currently logged in as: \u001b[33mbujidao\u001b[0m. Use \u001b[1m`wandb login --relogin`\u001b[0m to force relogin\n"
     ]
    }
   ],
   "source": [
    "import wandb\n",
    "\n",
    "try:\n",
    "    # wandb.log(key=\"*******\") # if debug\n",
    "    wandb.login() # storage in ~/.netrc file\n",
    "    anonymous = None\n",
    "except:\n",
    "    anonymous = \"must\"\n",
    "    print('\\nGet your W&B access token from here: https://wandb.ai/authorize\\n')"
   ]
  },
  {
   "cell_type": "markdown",
   "id": "bb10948d",
   "metadata": {},
   "source": [
    "# config"
   ]
  },
  {
   "cell_type": "code",
   "execution_count": 4,
   "id": "c1eccff4",
   "metadata": {},
   "outputs": [
    {
     "name": "stdout",
     "output_type": "stream",
     "text": [
      "当前为调试模式!\n",
      "> SEEDING DONE\n"
     ]
    },
    {
     "data": {
      "text/plain": [
       "device(type='cuda', index=1)"
      ]
     },
     "execution_count": 4,
     "metadata": {},
     "output_type": "execute_result"
    }
   ],
   "source": [
    "torch.backends.cudnn.enabled = False #禁用cudnn\n",
    "class config:\n",
    "    debug = True\n",
    "    device = torch.device(\"cuda:0\" if torch.cuda.is_available() else \"cpu\")\n",
    "    root_path = r'/home/junsheng/huawei'\n",
    "    # root_path = r'E:\\Download'\n",
    "    project = 'huawei_contest'\n",
    "    img_size = (512,512)\n",
    "    seed = 666\n",
    "    train_batch_size = 16\n",
    "    test_batch_size = 16\n",
    "    lr = (2e-3)/2\n",
    "    epoch = 3\n",
    "    n_fold = 5\n",
    "    #wandb\n",
    "    model_name = 'efficientnet-b4'\n",
    "    wandb_group = \"junsheng\"\n",
    "    wandb_offline = True\n",
    "    path_to_save = \"./runs\"\n",
    "    \n",
    "###########################\n",
    "if config.debug:\n",
    "    print(\"当前为调试模式!\")\n",
    "    config.train_batch_size = 16\n",
    "    config.test_batch_size = 16\n",
    "    config.epoch = 5\n",
    "    config.img_size = (512,512)\n",
    "    config.wandb_group = \"junsheng_debug\"\n",
    "    config.project = 'huawei_contest_debug'\n",
    "    config.model_name = 'efficientnet-b4'\n",
    "###########################\n",
    "if config.wandb_offline:\n",
    "    os.environ[\"WANDB_MODE\"] = \"offline\"\n",
    "def set_seed(seed = config.seed):\n",
    "    '''Sets the seed of the entire notebook so results are the same every time we run.\n",
    "    This is for REPRODUCIBILITY.'''\n",
    "    np.random.seed(seed)\n",
    "    random.seed(seed)\n",
    "    torch.manual_seed(seed)\n",
    "    torch.cuda.manual_seed(seed)\n",
    "    # When running on the CuDNN backend, two further options must be set\n",
    "    # torch.backends.cudnn.deterministic = True\n",
    "    # torch.backends.cudnn.benchmark = False\n",
    "    # Set a fixed value for the hash seed\n",
    "    os.environ['PYTHONHASHSEED'] = str(seed)\n",
    "    print('> SEEDING DONE')\n",
    "set_seed(config.seed)\n",
    "config.device    "
   ]
  },
  {
   "cell_type": "markdown",
   "id": "d68f602a",
   "metadata": {},
   "source": [
    "# 数据集准备"
   ]
  },
  {
   "cell_type": "markdown",
   "id": "9bbfd994",
   "metadata": {},
   "source": [
    "## 数据信息"
   ]
  },
  {
   "cell_type": "code",
   "execution_count": 5,
   "id": "75ca3086",
   "metadata": {},
   "outputs": [
    {
     "name": "stdout",
     "output_type": "stream",
     "text": [
      "数据总量： 29164\n"
     ]
    },
    {
     "data": {
      "image/png": "[encoded data removed]",
      "text/plain": [
       "<Figure size 432x288 with 1 Axes>"
      ]
     },
     "metadata": {
      "needs_background": "light"
     },
     "output_type": "display_data"
    }
   ],
   "source": [
    "train_label_path = os.path.join(config.root_path,'./train_label/my_train_label.csv')\n",
    "df = pd.read_csv(train_label_path)\n",
    "df = df[['pic','label']]\n",
    "def change(x):\n",
    "    if x == 0:\n",
    "        return (1,0)\n",
    "    else:\n",
    "        return (0,1)\n",
    "df['oh_label'] = df.label.astype(int).map(change)\n",
    "df.oh_label.value_counts().plot.bar()\n",
    "print(\"数据总量：\",df.oh_label.value_counts().sum())"
   ]
  },
  {
   "cell_type": "code",
   "execution_count": 6,
   "id": "ffc51cf5",
   "metadata": {},
   "outputs": [
    {
     "data": {
      "text/plain": [
       "<AxesSubplot:>"
      ]
     },
     "execution_count": 6,
     "metadata": {},
     "output_type": "execute_result"
    },
    {
     "data": {
      "image/png": "[encoded data removed]",
      "text/plain": [
       "<Figure size 432x288 with 1 Axes>"
      ]
     },
     "metadata": {
      "needs_background": "light"
     },
     "output_type": "display_data"
    }
   ],
   "source": [
    "df.label.value_counts().plot.bar()"
   ]
  },
  {
   "cell_type": "code",
   "execution_count": 7,
   "id": "98052c70",
   "metadata": {},
   "outputs": [
    {
     "data": {
      "text/html": [
       "<div>\n",
       "<style scoped>\n",
       "    .dataframe tbody tr th:only-of-type {\n",
       "        vertical-align: middle;\n",
       "    }\n",
       "\n",
       "    .dataframe tbody tr th {\n",
       "        vertical-align: top;\n",
       "    }\n",
       "\n",
       "    .dataframe thead th {\n",
       "        text-align: right;\n",
       "    }\n",
       "</style>\n",
       "<table border=\"1\" class=\"dataframe\">\n",
       "  <thead>\n",
       "    <tr style=\"text-align: right;\">\n",
       "      <th></th>\n",
       "      <th>pic</th>\n",
       "      <th>label</th>\n",
       "      <th>oh_label</th>\n",
       "    </tr>\n",
       "  </thead>\n",
       "  <tbody>\n",
       "    <tr>\n",
       "      <th>0</th>\n",
       "      <td>train_00000.png</td>\n",
       "      <td>1</td>\n",
       "      <td>(0, 1)</td>\n",
       "    </tr>\n",
       "    <tr>\n",
       "      <th>1</th>\n",
       "      <td>train_00001.png</td>\n",
       "      <td>0</td>\n",
       "      <td>(1, 0)</td>\n",
       "    </tr>\n",
       "    <tr>\n",
       "      <th>2</th>\n",
       "      <td>train_00002.png</td>\n",
       "      <td>0</td>\n",
       "      <td>(1, 0)</td>\n",
       "    </tr>\n",
       "    <tr>\n",
       "      <th>3</th>\n",
       "      <td>train_00003.png</td>\n",
       "      <td>0</td>\n",
       "      <td>(1, 0)</td>\n",
       "    </tr>\n",
       "    <tr>\n",
       "      <th>4</th>\n",
       "      <td>train_00004.png</td>\n",
       "      <td>0</td>\n",
       "      <td>(1, 0)</td>\n",
       "    </tr>\n",
       "  </tbody>\n",
       "</table>\n",
       "</div>"
      ],
      "text/plain": [
       "               pic  label oh_label\n",
       "0  train_00000.png      1   (0, 1)\n",
       "1  train_00001.png      0   (1, 0)\n",
       "2  train_00002.png      0   (1, 0)\n",
       "3  train_00003.png      0   (1, 0)\n",
       "4  train_00004.png      0   (1, 0)"
      ]
     },
     "execution_count": 7,
     "metadata": {},
     "output_type": "execute_result"
    }
   ],
   "source": [
    "df.head()"
   ]
  },
  {
   "cell_type": "markdown",
   "id": "3f271571",
   "metadata": {},
   "source": [
    "## 创建fold"
   ]
  },
  {
   "cell_type": "code",
   "execution_count": 8,
   "id": "6a4d038f",
   "metadata": {},
   "outputs": [],
   "source": [
    "skf = StratifiedKFold(n_splits=config.n_fold, shuffle=True, random_state=config.seed)"
   ]
  },
  {
   "cell_type": "markdown",
   "id": "a02116de",
   "metadata": {},
   "source": [
    "## 生成标签"
   ]
  },
  {
   "cell_type": "code",
   "execution_count": 9,
   "id": "14b57771-698d-48fd-ba15-7757d9f713e4",
   "metadata": {},
   "outputs": [
    {
     "name": "stdout",
     "output_type": "stream",
     "text": [
      "torch.Size([29164, 2])\n"
     ]
    }
   ],
   "source": [
    "\n",
    "import csv\n",
    "file=[]\n",
    "number=[]\n",
    "train_label_path = os.path.join(config.root_path,'./train_label/train_label.csv') if config.debug else os.path.join(config.root_path,'./train_label/label.csv')\n",
    "\n",
    "with open(train_label_path) as csvfile:\n",
    "    csv_reader = csv.reader(csvfile)  # 使用csv.reader读取csvfile中的文件\n",
    "    for row in csv_reader:            # 将csv 文件中的数据保存到data中\n",
    "        file.append(row[0])           # 选择某一列加入到data数组中\n",
    "        if(row[1]==\"0\"):\n",
    "            number.append([1,0])\n",
    "        else:\n",
    "            number.append([0,1])\n",
    "number=torch.tensor(number, dtype=torch.float)\n",
    "print(number.shape)"
   ]
  },
  {
   "cell_type": "code",
   "execution_count": 10,
   "id": "a9aeee53-0a92-4a56-a395-5ea6cb2560f8",
   "metadata": {},
   "outputs": [
    {
     "name": "stdout",
     "output_type": "stream",
     "text": [
      "29164\n"
     ]
    }
   ],
   "source": [
    "file = [os.path.join(config.root_path,\"./train_image/labeled_data/\",i) for i in file ]\n",
    "print(len(file))"
   ]
  },
  {
   "cell_type": "code",
   "execution_count": 11,
   "id": "ef014ccd-2663-4e52-93b2-4387c4a11d39",
   "metadata": {},
   "outputs": [
    {
     "name": "stdout",
     "output_type": "stream",
     "text": [
      "tensor([2., 0.])\n",
      "tensor([[0., 1.],\n",
      "        [1., 0.],\n",
      "        [1., 0.],\n",
      "        ...,\n",
      "        [1., 0.],\n",
      "        [0., 1.],\n",
      "        [1., 0.]])\n"
     ]
    }
   ],
   "source": [
    "from PIL import Image\n",
    "import matplotlib.pyplot as plt\n",
    "print(number[1]+number[2])\n",
    "print(number)"
   ]
  },
  {
   "cell_type": "markdown",
   "id": "f1e7b31c",
   "metadata": {},
   "source": [
    "## 数据增强"
   ]
  },
  {
   "cell_type": "code",
   "execution_count": 12,
   "id": "9983025e",
   "metadata": {},
   "outputs": [],
   "source": [
    "data_transforms = {\n",
    "    \"train\": A.Compose([\n",
    "        # A.Resize(config.img_size[0],config.img_size[1], interpolation=cv2.INTER_NEAREST),\n",
    "        # A.HorizontalFlip(p=0.5),\n",
    "        # A.VerticalFlip(p=0.5),\n",
    "#         A.ShiftScaleRotate(shift_limit=0.0625, scale_limit=0.05, rotate_limit=5, p=0.5),\n",
    "        # A.OneOf([\n",
    "            # A.GridDistortion(num_steps=5, distort_limit=0.05, p=1.0),\n",
    "# #             A.OpticalDistortion(distort_limit=0.05, shift_limit=0.05, p=1.0),\n",
    "            # A.ElasticTransform(alpha=1, sigma=50, alpha_affine=50, p=1.0)\n",
    "        # ], p=0.25),\n",
    "#         A.CoarseDropout(max_holes=8, max_height=CFG.img_size[0]//20, max_width=CFG.img_size[1]//20,\n",
    "#                          min_holes=5, fill_value=0, mask_fill_value=0, p=0.5),\n",
    "        ], p=1.0),\n",
    "    \n",
    "    \"test\": A.Compose([\n",
    "        # A.Resize(config.img_size[0],config.img_size[1], interpolation=cv2.INTER_NEAREST),\n",
    "        ], p=1.0)\n",
    "}"
   ]
  },
  {
   "cell_type": "code",
   "execution_count": 13,
   "id": "75267dbc",
   "metadata": {},
   "outputs": [],
   "source": [
    "channel_mean = torch.tensor([0.7136, 0.7118, 0.6788])\n",
    "channel_std = torch.tensor([0.3338, 0.3453, 0.3020])\n",
    "# 这是反归一化的 mean 和std \n",
    "MEAN = [-mean/std for mean, std in zip(channel_mean, channel_std)]\n",
    "STD = [1/std for std in channel_std]\n",
    "\n",
    "# 归一化和反归一化生成器\n",
    "normalizer = transforms.Normalize(mean=channel_mean, std=channel_std)\n",
    "denormalizer = transforms.Normalize(mean=MEAN, std=STD)"
   ]
  },
  {
   "cell_type": "markdown",
   "id": "da05fbe3",
   "metadata": {},
   "source": [
    "## dataset"
   ]
  },
  {
   "cell_type": "code",
   "execution_count": 14,
   "id": "0c4e2b1d-f9bc-47d5-a3f7-d5e74900894b",
   "metadata": {},
   "outputs": [],
   "source": [
    "number_train = number[:50] if config.debug else number[:]\n",
    "number_test = number[:50] if config.debug else number[:]\n",
    "\n",
    "file_train = file[:50] if config.debug else file[:]\n",
    "file_test = file[:50] if config.debug else file[:]\n",
    "\n",
    "\n",
    "myTransforms = transforms.Compose([\n",
    "    transforms.Resize(config.img_size),\n",
    "    transforms.ToTensor(),\n",
    "    transforms.Normalize(\n",
    "    mean=[0.7136, 0.7118, 0.6788],\n",
    "    std=[0.3338, 0.3453, 0.3020],\n",
    "    \n",
    ")\n",
    "])\n",
    "\n",
    "def image_loader(path):\n",
    "    # img = cv2.imread(path, cv2.IMREAD_UNCHANGED)\n",
    "    # img = img[:,:,3]\n",
    "    # img = cv2.cvtColor(img, cv2.COLOR_BGR2RGB)\n",
    "    # img = img.astype('float32')\n",
    "    img =  Image.open(path).convert('RGB')\n",
    "    img = myTransforms(img)\n",
    "    return img\n",
    "\n",
    "\n",
    "class my_dataset(Dataset):\n",
    "    def __init__(self, loader=image_loader,A_transforms=None):\n",
    "        self.images = file_train\n",
    "        self.target = number_train\n",
    "        self.loader = loader\n",
    "        self.A_transforms = A_transforms\n",
    "\n",
    "    def __getitem__(self, index):\n",
    "        fn = self.images[index]\n",
    "        img = self.loader(fn)\n",
    "        if self.A_transforms:\n",
    "            data = self.A_transforms(image=img)\n",
    "            img  = data['image']\n",
    "        # img = img.transpose(2,0,1)\n",
    "        # img = normalizer(torch.tensor(img))        # 归一化\n",
    "        # img = normalizer(img.clone().detach())        # 归一化\n",
    "        target = self.target[index].cuda()\n",
    "        # return img.clone().detach(),target.clone().detach()\n",
    "        return img,target\n",
    "\n",
    "    def __len__(self):\n",
    "        return len(self.images)\n",
    "    \n",
    "\n",
    "    \n"
   ]
  },
  {
   "cell_type": "markdown",
   "id": "5349e85d",
   "metadata": {},
   "source": [
    "## Dataloader"
   ]
  },
  {
   "cell_type": "markdown",
   "id": "4982b6ed",
   "metadata": {},
   "source": [
    "Dataloader Define"
   ]
  },
  {
   "cell_type": "code",
   "execution_count": 15,
   "id": "67ca21c9-b1f4-4aa4-b458-eea5946202ea",
   "metadata": {},
   "outputs": [],
   "source": [
    "train_data  = my_dataset(A_transforms=data_transforms['train'])\n",
    "test_data = my_dataset(A_transforms=data_transforms['test'])\n",
    "\n",
    "train_loader = DataLoader(train_data, batch_size=config.train_batch_size,shuffle=True)\n",
    "testloader = DataLoader(test_data, batch_size=config.test_batch_size,shuffle=False)\n"
   ]
  },
  {
   "cell_type": "markdown",
   "id": "39dbaef1",
   "metadata": {},
   "source": [
    "### mean std "
   ]
  },
  {
   "cell_type": "code",
   "execution_count": 16,
   "id": "ce65d24d",
   "metadata": {},
   "outputs": [],
   "source": [
    "\n",
    "def get_mean_std_value(loader):\n",
    "    '''\n",
    "    求数据集的均值和标准差\n",
    "    :param loader:\n",
    "    :return:\n",
    "    '''\n",
    "    data_sum,data_squared_sum,num_batches = 0,0,0\n",
    "    \n",
    "    for data,_ in loader:\n",
    "        # data: [batch_size,channels,height,width]\n",
    "        # 计算dim=0,2,3维度的均值和，dim=1为通道数量，不用参与计算\n",
    "        # data_sum += torch.mean(data,dim=[0,2,3])    # [batch_size,channels,height,width]\n",
    "        data_sum += torch.mean(data,dim=[0,1,2])    # [batch_size,height,width,channels]\n",
    "        # 计算dim=0,2,3维度的平方均值和，dim=1为通道数量，不用参与计算\n",
    "        # data_squared_sum += torch.mean(data**2,dim=[0,2,3])  # [batch_size,channels,height,width]\n",
    "        data_squared_sum += torch.mean(data**2,dim=[0,1,2])  # [batch_size,height,width,channels]\n",
    "        # 统计batch的数量\n",
    "        num_batches += 1\n",
    "\n",
    "       \n",
    "    # 计算均值\n",
    "    mean = data_sum/num_batches\n",
    "    # 计算标准差\n",
    "    std = (data_squared_sum/num_batches - mean**2)**0.5\n",
    "    return mean,std\n",
    "\n",
    "# mean,std = get_mean_std_value(train_loader)\n",
    "# print('mean = {},std = {}'.format(mean,std))\n",
    "# mean = tensor([181.9735, 181.5179, 173.0954]),std = tensor([85.1068, 88.0633, 77.0048])\n",
    "# mean:tensor([0.7136, 0.7118, 0.6788])\n",
    "# std:tensor([0.3338, 0.3453, 0.3020]) ->batch_size,height,width"
   ]
  },
  {
   "cell_type": "markdown",
   "id": "f526538c",
   "metadata": {},
   "source": [
    "### 可视化"
   ]
  },
  {
   "cell_type": "code",
   "execution_count": 17,
   "id": "4f870adf",
   "metadata": {},
   "outputs": [],
   "source": [
    "def plot_batch(imgs, size=3):\n",
    "    plt.figure(figsize=(5*5, 5))\n",
    "    for idx in range(size):\n",
    "        plt.subplot(1, 5, idx+1)\n",
    "        img = denormalizer(torch.tensor(imgs[idx,]))# 反归一化得到原图\n",
    "        img = img.permute((1,2,0)).numpy()*255\n",
    "        print(\"imgs[0].shape:\",imgs[0].shape,\"->img.shape:\",img.shape)\n",
    "        img = img.astype('uint8')\n",
    "        plt.imshow(img)\n",
    "        plt.axis('off')\n",
    "    plt.tight_layout()\n",
    "    plt.show()"
   ]
  },
  {
   "cell_type": "code",
   "execution_count": 18,
   "id": "a831db94",
   "metadata": {},
   "outputs": [
    {
     "name": "stdout",
     "output_type": "stream",
     "text": [
      "imgs[0].shape: torch.Size([3, 512, 512]) ->img.shape: (512, 512, 3)\n"
     ]
    },
    {
     "name": "stderr",
     "output_type": "stream",
     "text": [
      "/tmp/ipykernel_1226424/671165804.py:5: UserWarning: To copy construct from a tensor, it is recommended to use sourceTensor.clone().detach() or sourceTensor.clone().detach().requires_grad_(True), rather than torch.tensor(sourceTensor).\n",
      "  img = denormalizer(torch.tensor(imgs[idx,]))# 反归一化得到原图\n"
     ]
    },
    {
     "data": {
      "image/png": "[encoded data removed]",
      "text/plain": [
       "<Figure size 1800x360 with 1 Axes>"
      ]
     },
     "metadata": {
      "needs_background": "light"
     },
     "output_type": "display_data"
    }
   ],
   "source": [
    "imgs,lable = next(iter(train_loader))\n",
    "imgs.size(), lable.size()\n",
    "plot_batch(imgs, size=1)"
   ]
  },
  {
   "cell_type": "markdown",
   "id": "13ea3380",
   "metadata": {},
   "source": [
    "# 模型准备"
   ]
  },
  {
   "cell_type": "markdown",
   "id": "2edbc3c8",
   "metadata": {},
   "source": [
    "resnet"
   ]
  },
  {
   "cell_type": "code",
   "execution_count": 19,
   "id": "4f877b37",
   "metadata": {},
   "outputs": [],
   "source": [
    "import pretrainedmodels\n",
    "#model_name = 'resnext101_32x4d'\n",
    "# model_name = 'resnet18'\n",
    "#model_name = 'resnet18' # could be fbresnet152 or inceptionresnetv2\n",
    "\n",
    "def build_model_resnet():\n",
    "    '''\n",
    "    from torchvision import models\n",
    "    model = models.resnet18(pretrained=False)\n",
    "\n",
    "    params = torch.load(\"model18.pth\") # 加载参数\n",
    "    model.load_state_dict(params) # 应用到网络结构中\n",
    "\n",
    "    NUM_CLASS = 80                       #种类数，即最后预测结果的维度\n",
    "    in_fc_nums = model.fc.in_features    #resnet18最后一层输入神经元的个数\n",
    "    fc = nn.Linear(in_fc_nums,NUM_CLASS)\n",
    "    model.fc = fc\n",
    "\n",
    "    '''\n",
    "    model = pretrainedmodels.__dict__[config.model_name](num_classes=1000, pretrained='imagenet')\n",
    "    dim_feats = model.last_linear.in_features # =2048\n",
    "    nb_classes = 2\n",
    "    model.last_linear = nn.Linear(dim_feats, nb_classes)\n",
    "    return   model\n"
   ]
  },
  {
   "cell_type": "markdown",
   "id": "35873a95",
   "metadata": {},
   "source": [
    "efficientnet"
   ]
  },
  {
   "cell_type": "code",
   "execution_count": 20,
   "id": "65d57c32",
   "metadata": {},
   "outputs": [],
   "source": [
    "# refer:https://github.com/lukemelas/EfficientNet-PyTorch#example-classification\n",
    "from efficientnet_pytorch import EfficientNet\n",
    "def build_model_efficient():\n",
    "    nb_classes = 2\n",
    "    model = EfficientNet.from_pretrained(config.model_name)# 'efficientnet-b4'\n",
    "    model._fc = nn.Linear(1792, 2)\n",
    "    return model\n",
    "# hah = build_model_efficient()\n"
   ]
  },
  {
   "cell_type": "code",
   "execution_count": 21,
   "id": "9f867889",
   "metadata": {},
   "outputs": [],
   "source": [
    "# a = torch.rand([1,3,255,255])\n",
    "# print(a.shape)\n",
    "# hah(a).shape"
   ]
  },
  {
   "cell_type": "code",
   "execution_count": 22,
   "id": "b43172c2",
   "metadata": {},
   "outputs": [
    {
     "name": "stdout",
     "output_type": "stream",
     "text": [
      "Loaded pretrained weights for efficientnet-b4\n"
     ]
    }
   ],
   "source": [
    "# model = build_model_resnet()\n",
    "model = build_model_efficient()"
   ]
  },
  {
   "cell_type": "code",
   "execution_count": 23,
   "id": "508d8479",
   "metadata": {},
   "outputs": [],
   "source": [
    "# model(a).shape"
   ]
  },
  {
   "cell_type": "markdown",
   "id": "fa82636f",
   "metadata": {},
   "source": [
    "# 验证一个epoch"
   ]
  },
  {
   "cell_type": "code",
   "execution_count": 24,
   "id": "d018602a",
   "metadata": {},
   "outputs": [],
   "source": [
    "@torch.no_grad()\n",
    "def valid_one_epoch(model, dataloader, device, epoch):\n",
    "    model.eval()\n",
    "    \n",
    "    dataset_size = 0\n",
    "    running_loss = 0.0\n",
    "    auc_loss = 0.0\n",
    "    running_auc = 0.0\n",
    "    val_scores = []\n",
    "    \n",
    "    for images, labels in dataloader:        \n",
    "        images  = images.to(device, dtype=torch.float)\n",
    "        labels   = labels.to(device, dtype=torch.float)\n",
    "        \n",
    "        batch_size = images.size(0)\n",
    "        \n",
    "        out  = model(images)\n",
    "        out=last(out)\n",
    "\n",
    "        auc = metrics.roc_auc_score(labels.cpu().numpy(), out.cpu().numpy())\n",
    "        \n",
    "        \n",
    "        loss    = criterion(out, labels)\n",
    "        running_loss += (loss.data.item() * batch_size)\n",
    "        dataset_size += batch_size\n",
    "        epoch_loss = running_loss / dataset_size    \n",
    "\n",
    "        val_scores.append(auc)\n",
    "    val_scores  = np.mean(val_scores, axis=0)\n",
    "    torch.cuda.empty_cache()\n",
    "    gc.collect()\n",
    "    \n",
    "    return epoch_loss, val_scores\n",
    "\n"
   ]
  },
  {
   "cell_type": "markdown",
   "id": "14424bdc",
   "metadata": {},
   "source": [
    "# 训练"
   ]
  },
  {
   "cell_type": "code",
   "execution_count": 25,
   "id": "00c82e85",
   "metadata": {},
   "outputs": [],
   "source": [
    "model_file_path = os.path.join(config.root_path,\"last_epoch.bin\") # 保存模型文件的路径"
   ]
  },
  {
   "cell_type": "code",
   "execution_count": 26,
   "id": "189b839f-d376-4db8-91af-004d99540566",
   "metadata": {},
   "outputs": [
    {
     "name": "stdout",
     "output_type": "stream",
     "text": [
      "学习率:  0.001\n",
      "迭代次数:  5\n"
     ]
    },
    {
     "data": {
      "text/html": [
       "Changes to your `wandb` environment variables will be ignored because your `wandb` session has already started. For more information on how to modify your settings with `wandb.init()` arguments, please refer to <a href=\"https://wandb.me/wandb-init\" target=\"_blank\">the W&B docs</a>."
      ],
      "text/plain": [
       "<IPython.core.display.HTML object>"
      ]
     },
     "metadata": {},
     "output_type": "display_data"
    },
    {
     "data": {
      "text/html": [
       "Tracking run with wandb version 0.12.21"
      ],
      "text/plain": [
       "<IPython.core.display.HTML object>"
      ]
     },
     "metadata": {},
     "output_type": "display_data"
    },
    {
     "data": {
      "text/html": [
       "Run data is saved locally in <code>/home/junsheng/huawei/huawei_contest/wandb/run-20220720_132535-2nb4f8x8</code>"
      ],
      "text/plain": [
       "<IPython.core.display.HTML object>"
      ]
     },
     "metadata": {},
     "output_type": "display_data"
    },
    {
     "data": {
      "text/html": [
       "Syncing run <strong><a href=\"https://wandb.ai/bujidao/huawei_contest_debug/runs/2nb4f8x8\" target=\"_blank\">dim-(512, 512)|model-efficientnet-b4</a></strong> to <a href=\"https://wandb.ai/bujidao/huawei_contest_debug\" target=\"_blank\">Weights & Biases</a> (<a href=\"https://wandb.me/run\" target=\"_blank\">docs</a>)<br/>"
      ],
      "text/plain": [
       "<IPython.core.display.HTML object>"
      ]
     },
     "metadata": {},
     "output_type": "display_data"
    },
    {
     "ename": "RuntimeError",
     "evalue": "Expected all tensors to be on the same device, but found at least two devices, cuda:0 and cuda:1! (when checking argument for argument weight in method wrapper___slow_conv2d_forward)",
     "output_type": "error",
     "traceback": [
      "\u001b[0;31m---------------------------------------------------------------------------\u001b[0m",
      "\u001b[0;31mRuntimeError\u001b[0m                              Traceback (most recent call last)",
      "\u001b[1;32m/home/junsheng/huawei/huawei_contest/train.ipynb Cell 44\u001b[0m in \u001b[0;36m<cell line: 32>\u001b[0;34m()\u001b[0m\n\u001b[1;32m     <a href='vscode-notebook-cell://ssh-remote%2Bgpu-server-1-junsheng-3090/home/junsheng/huawei/huawei_contest/train.ipynb#ch0000041vscode-remote?line=39'>40</a>\u001b[0m     img \u001b[39m=\u001b[39m img\u001b[39m.\u001b[39mcuda()\n\u001b[1;32m     <a href='vscode-notebook-cell://ssh-remote%2Bgpu-server-1-junsheng-3090/home/junsheng/huawei/huawei_contest/train.ipynb#ch0000041vscode-remote?line=40'>41</a>\u001b[0m     label \u001b[39m=\u001b[39m label\u001b[39m.\u001b[39mcuda()\n\u001b[0;32m---> <a href='vscode-notebook-cell://ssh-remote%2Bgpu-server-1-junsheng-3090/home/junsheng/huawei/huawei_contest/train.ipynb#ch0000041vscode-remote?line=41'>42</a>\u001b[0m out \u001b[39m=\u001b[39m model(img)\n\u001b[1;32m     <a href='vscode-notebook-cell://ssh-remote%2Bgpu-server-1-junsheng-3090/home/junsheng/huawei/huawei_contest/train.ipynb#ch0000041vscode-remote?line=42'>43</a>\u001b[0m out\u001b[39m=\u001b[39mlast(out)\n\u001b[1;32m     <a href='vscode-notebook-cell://ssh-remote%2Bgpu-server-1-junsheng-3090/home/junsheng/huawei/huawei_contest/train.ipynb#ch0000041vscode-remote?line=43'>44</a>\u001b[0m loss \u001b[39m=\u001b[39m criterion(out, label)\u001b[39m#计算损失函数\u001b[39;00m\n",
      "File \u001b[0;32m/opt/anaconda3/envs/pytorch_junsheng_39/lib/python3.9/site-packages/torch/nn/modules/module.py:1130\u001b[0m, in \u001b[0;36mModule._call_impl\u001b[0;34m(self, *input, **kwargs)\u001b[0m\n\u001b[1;32m   1126\u001b[0m \u001b[39m# If we don't have any hooks, we want to skip the rest of the logic in\u001b[39;00m\n\u001b[1;32m   1127\u001b[0m \u001b[39m# this function, and just call forward.\u001b[39;00m\n\u001b[1;32m   1128\u001b[0m \u001b[39mif\u001b[39;00m \u001b[39mnot\u001b[39;00m (\u001b[39mself\u001b[39m\u001b[39m.\u001b[39m_backward_hooks \u001b[39mor\u001b[39;00m \u001b[39mself\u001b[39m\u001b[39m.\u001b[39m_forward_hooks \u001b[39mor\u001b[39;00m \u001b[39mself\u001b[39m\u001b[39m.\u001b[39m_forward_pre_hooks \u001b[39mor\u001b[39;00m _global_backward_hooks\n\u001b[1;32m   1129\u001b[0m         \u001b[39mor\u001b[39;00m _global_forward_hooks \u001b[39mor\u001b[39;00m _global_forward_pre_hooks):\n\u001b[0;32m-> 1130\u001b[0m     \u001b[39mreturn\u001b[39;00m forward_call(\u001b[39m*\u001b[39;49m\u001b[39minput\u001b[39;49m, \u001b[39m*\u001b[39;49m\u001b[39m*\u001b[39;49mkwargs)\n\u001b[1;32m   1131\u001b[0m \u001b[39m# Do not call functions when jit is used\u001b[39;00m\n\u001b[1;32m   1132\u001b[0m full_backward_hooks, non_full_backward_hooks \u001b[39m=\u001b[39m [], []\n",
      "File \u001b[0;32m/opt/anaconda3/envs/pytorch_junsheng_39/lib/python3.9/site-packages/efficientnet_pytorch/model.py:314\u001b[0m, in \u001b[0;36mEfficientNet.forward\u001b[0;34m(self, inputs)\u001b[0m\n\u001b[1;32m    304\u001b[0m \u001b[39m\"\"\"EfficientNet's forward function.\u001b[39;00m\n\u001b[1;32m    305\u001b[0m \u001b[39m   Calls extract_features to extract features, applies final linear layer, and returns logits.\u001b[39;00m\n\u001b[1;32m    306\u001b[0m \n\u001b[0;32m   (...)\u001b[0m\n\u001b[1;32m    311\u001b[0m \u001b[39m    Output of this model after processing.\u001b[39;00m\n\u001b[1;32m    312\u001b[0m \u001b[39m\"\"\"\u001b[39;00m\n\u001b[1;32m    313\u001b[0m \u001b[39m# Convolution layers\u001b[39;00m\n\u001b[0;32m--> 314\u001b[0m x \u001b[39m=\u001b[39m \u001b[39mself\u001b[39;49m\u001b[39m.\u001b[39;49mextract_features(inputs)\n\u001b[1;32m    315\u001b[0m \u001b[39m# Pooling and final linear layer\u001b[39;00m\n\u001b[1;32m    316\u001b[0m x \u001b[39m=\u001b[39m \u001b[39mself\u001b[39m\u001b[39m.\u001b[39m_avg_pooling(x)\n",
      "File \u001b[0;32m/opt/anaconda3/envs/pytorch_junsheng_39/lib/python3.9/site-packages/efficientnet_pytorch/model.py:289\u001b[0m, in \u001b[0;36mEfficientNet.extract_features\u001b[0;34m(self, inputs)\u001b[0m\n\u001b[1;32m    279\u001b[0m \u001b[39m\"\"\"use convolution layer to extract feature .\u001b[39;00m\n\u001b[1;32m    280\u001b[0m \n\u001b[1;32m    281\u001b[0m \u001b[39mArgs:\u001b[39;00m\n\u001b[0;32m   (...)\u001b[0m\n\u001b[1;32m    286\u001b[0m \u001b[39m    layer in the efficientnet model.\u001b[39;00m\n\u001b[1;32m    287\u001b[0m \u001b[39m\"\"\"\u001b[39;00m\n\u001b[1;32m    288\u001b[0m \u001b[39m# Stem\u001b[39;00m\n\u001b[0;32m--> 289\u001b[0m x \u001b[39m=\u001b[39m \u001b[39mself\u001b[39m\u001b[39m.\u001b[39m_swish(\u001b[39mself\u001b[39m\u001b[39m.\u001b[39m_bn0(\u001b[39mself\u001b[39;49m\u001b[39m.\u001b[39;49m_conv_stem(inputs)))\n\u001b[1;32m    291\u001b[0m \u001b[39m# Blocks\u001b[39;00m\n\u001b[1;32m    292\u001b[0m \u001b[39mfor\u001b[39;00m idx, block \u001b[39min\u001b[39;00m \u001b[39menumerate\u001b[39m(\u001b[39mself\u001b[39m\u001b[39m.\u001b[39m_blocks):\n",
      "File \u001b[0;32m/opt/anaconda3/envs/pytorch_junsheng_39/lib/python3.9/site-packages/torch/nn/modules/module.py:1130\u001b[0m, in \u001b[0;36mModule._call_impl\u001b[0;34m(self, *input, **kwargs)\u001b[0m\n\u001b[1;32m   1126\u001b[0m \u001b[39m# If we don't have any hooks, we want to skip the rest of the logic in\u001b[39;00m\n\u001b[1;32m   1127\u001b[0m \u001b[39m# this function, and just call forward.\u001b[39;00m\n\u001b[1;32m   1128\u001b[0m \u001b[39mif\u001b[39;00m \u001b[39mnot\u001b[39;00m (\u001b[39mself\u001b[39m\u001b[39m.\u001b[39m_backward_hooks \u001b[39mor\u001b[39;00m \u001b[39mself\u001b[39m\u001b[39m.\u001b[39m_forward_hooks \u001b[39mor\u001b[39;00m \u001b[39mself\u001b[39m\u001b[39m.\u001b[39m_forward_pre_hooks \u001b[39mor\u001b[39;00m _global_backward_hooks\n\u001b[1;32m   1129\u001b[0m         \u001b[39mor\u001b[39;00m _global_forward_hooks \u001b[39mor\u001b[39;00m _global_forward_pre_hooks):\n\u001b[0;32m-> 1130\u001b[0m     \u001b[39mreturn\u001b[39;00m forward_call(\u001b[39m*\u001b[39;49m\u001b[39minput\u001b[39;49m, \u001b[39m*\u001b[39;49m\u001b[39m*\u001b[39;49mkwargs)\n\u001b[1;32m   1131\u001b[0m \u001b[39m# Do not call functions when jit is used\u001b[39;00m\n\u001b[1;32m   1132\u001b[0m full_backward_hooks, non_full_backward_hooks \u001b[39m=\u001b[39m [], []\n",
      "File \u001b[0;32m/opt/anaconda3/envs/pytorch_junsheng_39/lib/python3.9/site-packages/efficientnet_pytorch/utils.py:275\u001b[0m, in \u001b[0;36mConv2dStaticSamePadding.forward\u001b[0;34m(self, x)\u001b[0m\n\u001b[1;32m    273\u001b[0m \u001b[39mdef\u001b[39;00m \u001b[39mforward\u001b[39m(\u001b[39mself\u001b[39m, x):\n\u001b[1;32m    274\u001b[0m     x \u001b[39m=\u001b[39m \u001b[39mself\u001b[39m\u001b[39m.\u001b[39mstatic_padding(x)\n\u001b[0;32m--> 275\u001b[0m     x \u001b[39m=\u001b[39m F\u001b[39m.\u001b[39;49mconv2d(x, \u001b[39mself\u001b[39;49m\u001b[39m.\u001b[39;49mweight, \u001b[39mself\u001b[39;49m\u001b[39m.\u001b[39;49mbias, \u001b[39mself\u001b[39;49m\u001b[39m.\u001b[39;49mstride, \u001b[39mself\u001b[39;49m\u001b[39m.\u001b[39;49mpadding, \u001b[39mself\u001b[39;49m\u001b[39m.\u001b[39;49mdilation, \u001b[39mself\u001b[39;49m\u001b[39m.\u001b[39;49mgroups)\n\u001b[1;32m    276\u001b[0m     \u001b[39mreturn\u001b[39;00m x\n",
      "\u001b[0;31mRuntimeError\u001b[0m: Expected all tensors to be on the same device, but found at least two devices, cuda:0 and cuda:1! (when checking argument for argument weight in method wrapper___slow_conv2d_forward)"
     ]
    },
    {
     "ename": "",
     "evalue": "",
     "output_type": "error",
     "traceback": [
      "\u001b[1;31mThe Kernel crashed while executing code in the the current cell or a previous cell. Please review the code in the cell(s) to identify a possible cause of the failure. Click <a href='https://aka.ms/vscodeJupyterKernelCrash'>here</a> for more info. View Jupyter <a href='command:jupyter.viewOutput'>log</a> for further details."
     ]
    }
   ],
   "source": [
    "lr = config.lr\n",
    "print(\"学习率: \",lr)\n",
    "criterion = nn.BCELoss() #交叉熵损失函数\n",
    "#optimizer = optim.Adam(model.parameters(),lr,weight_decay=5e-4)\n",
    "optimizer = optim.SGD(model.parameters(), \n",
    "                       lr,\n",
    "                       momentum=0.9)\n",
    "lr_scheduler = optim.lr_scheduler.CosineAnnealingLR(optimizer, T_max=5, eta_min=1e-5)\n",
    "\n",
    "\n",
    "Epoch = config.epoch\n",
    "print(\"迭代次数: \",Epoch)\n",
    "train_loss_all=[]\n",
    "\n",
    "loss_sum = 0\n",
    "best_epoch = -1\n",
    "best_loss = 1e3\n",
    "# last=nn.Softmax(dim=1) # CE可以用softmax，但是BCE需要用sigmoid\n",
    "last = nn.Sigmoid()\n",
    "\n",
    "\n",
    "# init wandb\n",
    "run = wandb.init(project=config.project, \n",
    "                     config={k:v for k, v in dict(vars(config)).items() if '__' not in k},\n",
    "                     anonymous=anonymous,\n",
    "                     name=f\"dim-{config.img_size}|model-{config.model_name}\",\n",
    "                     group=config.wandb_group,\n",
    "                    )\n",
    "model.to(config.device)\n",
    "\n",
    "wandb.watch(model, log_freq=100)\n",
    "for num_epoch in range(Epoch):\n",
    "    # train epoch>>>\n",
    "    dataset_size = 0\n",
    "    running_loss = 0.0\n",
    "    model.train()\n",
    "    for data in train_loader:\n",
    "        img, label = data\n",
    "        if torch.cuda.is_available():\n",
    "            img = img.cuda()\n",
    "            label = label.cuda()\n",
    "        out = model(img)\n",
    "        out=last(out)\n",
    "        loss = criterion(out, label)#计算损失函数\n",
    "        running_loss += (loss.data.item() * config.train_batch_size)\n",
    "        dataset_size += config.train_batch_size\n",
    "        epoch_loss = running_loss / dataset_size\n",
    "\n",
    "        #一坨优化\n",
    "        optimizer.zero_grad()#每一次反向传播之前都要归零梯度\n",
    "        loss.backward()      #反向传播\n",
    "        optimizer.step()     #固定写法\n",
    "        lr_scheduler.step()\n",
    "    with torch.no_grad():\n",
    "        model.eval()       \n",
    "        outs = []\n",
    "        labels = []\n",
    "        for datat in testloader:\n",
    "            img, label = datat    \n",
    "            if torch.cuda.is_available():\n",
    "                img = img.cuda()\n",
    "                label = label.cuda()\n",
    "                out = model(img)\n",
    "                out=last(out)\n",
    "\n",
    "                labels.extend(label.cpu().numpy())\n",
    "                outs.extend(out.cpu().numpy())\n",
    "                \n",
    "        auc = metrics.roc_auc_score(labels, outs)\n",
    "    print('epoch: {}, loss: {:.4},auc:{}'.format(num_epoch + 1, epoch_loss,auc))\n",
    "    train_loss_all.append(epoch_loss)\n",
    "    # find a better\n",
    "    if epoch_loss < best_loss:\n",
    "        best_loss = epoch_loss\n",
    "        best_epoch = num_epoch + 1\n",
    "\n",
    "        run.summary[\"Best Epoch\"]   = best_epoch\n",
    "        run.summary[\"Best Loss\"]   = best_loss\n",
    "\n",
    "        torch.save(model.state_dict(), model_file_path)\n",
    "        print(\"model save to\",model_file_path)\n",
    "        wandb.save()\n",
    "    # Log the metrics\n",
    "    wandb.log({\"Train Loss\": epoch_loss,\n",
    "                \"Valid AUC\":auc\n",
    "    })\n",
    "    gc.collect()\n",
    "\n",
    "# run.finish() \n"
   ]
  },
  {
   "cell_type": "code",
   "execution_count": null,
   "id": "e4cef0d6",
   "metadata": {},
   "outputs": [],
   "source": []
  },
  {
   "cell_type": "markdown",
   "id": "0e2b90ba",
   "metadata": {},
   "source": [
    "# 推理"
   ]
  },
  {
   "cell_type": "code",
   "execution_count": null,
   "id": "eafef615",
   "metadata": {},
   "outputs": [],
   "source": [
    "from edafa import ClassPredictor\n",
    "from edafa import ClassPredictor\n",
    "\n",
    "class myPredictor(ClassPredictor):\n",
    "    def __init__(self,model,*args,**kwargs):\n",
    "        super().__init__(*args,**kwargs)\n",
    "        self.model = model\n",
    "        \n",
    "        \n",
    "    def predict_patches(self,patches):\n",
    "        preds = []\n",
    "        for i in range(patches.shape[0]):\n",
    "            processed = patches[i].unsqueeze(0)\n",
    "            pred = self.model(processed)\n",
    "            preds.append(pred.data.numpy())\n",
    "\n",
    "        return np.array(preds)"
   ]
  },
  {
   "cell_type": "code",
   "execution_count": null,
   "id": "748933cd-e09f-4c97-aa69-6e24c05650d1",
   "metadata": {},
   "outputs": [],
   "source": [
    "# transform_pipeline = transforms.Compose()\n",
    "# ans=[]\n",
    "# model = model \n",
    "# model.load_state_dict(torch.load(model_file_path))\n",
    "# model.eval()\n",
    "# model.to(config.device)\n",
    "# # for i in range(1,4001):\n",
    "# rows = 51 if config.debug else 4001\n",
    "# for i in range(1,rows):\n",
    "#     path= os.path.join(config.root_path,\"test_images\",\"test_\"+str(i).zfill(5)+\".png\")\n",
    "#     img = image_loader(path)\n",
    "#     data = data_transforms['test'](image=img)\n",
    "#     img  = data['image']\n",
    "#     img = img.transpose(2,0,1)\n",
    "#     img = normalizer(torch.tensor(img)) \n",
    "\n",
    "#     p = myPredictor(model,transform_pipeline,\"../../conf/imagenet.json\")\n",
    "#     img = img.unsqueeze(0).cuda()\n",
    "\n",
    "#     out = p.predict_images(img)\n",
    "#     out = torch.from_numpy(out)\n",
    "#     # out = model(img)\n",
    "#     n=nn.Softmax(dim=0)\n",
    "#     idx = n(out[0])  \n",
    "#     ans.append(idx[1].item())"
   ]
  },
  {
   "cell_type": "code",
   "execution_count": null,
   "id": "9337a33f",
   "metadata": {},
   "outputs": [],
   "source": [
    "ans=[]\n",
    "model = model \n",
    "model.load_state_dict(torch.load(model_file_path))\n",
    "model.eval()\n",
    "model.to(config.device)\n",
    "# for i in range(1,4001):\n",
    "rows = 51 if config.debug else 4001\n",
    "for i in range(1,rows):\n",
    "    path= os.path.join(config.root_path,\"test_images\",\"test_\"+str(i).zfill(5)+\".png\")\n",
    "    img = image_loader(path)\n",
    "    # data = data_transforms['test'](image=img)\n",
    "    # img  = data['image']\n",
    "    # img = img.transpose(2,0,1)\n",
    "    # img = normalizer(torch.tensor(img)) # torch.Size([3, 512, 512])\n",
    "    \n",
    "    img = img.unsqueeze(0).cuda() # torch.Size([1, 3, 512, 512])\n",
    "    out = model(img)  # torch.Size([1, 2])\n",
    "    n=nn.Softmax(dim=0)\n",
    "    idx = n(out[0])  \n",
    "    ans.append(idx[1].item())"
   ]
  },
  {
   "cell_type": "markdown",
   "id": "27416a88",
   "metadata": {},
   "source": [
    "## 提交文件"
   ]
  },
  {
   "cell_type": "code",
   "execution_count": null,
   "id": "191297ce-92a9-46f4-86a3-ef2078bd0375",
   "metadata": {},
   "outputs": [
    {
     "name": "stdout",
     "output_type": "stream",
     "text": [
      "result to submission.csv\n"
     ]
    }
   ],
   "source": [
    "with open(\"submission.csv\",\"w\") as csvfile: \n",
    "    writer = csv.writer(csvfile)\n",
    "\n",
    "    #先写入columns_name\n",
    "    writer.writerow([\"imagename\",\"defect_prob\"])\n",
    "    #写入多行用writerows\n",
    "    for i in range(1,rows):\n",
    "        writer.writerow([\"test_\"+str(i).zfill(5)+\".png\",float(ans[i-1])])\n",
    "print(\"result to submission.csv\")\n",
    "        \n"
   ]
  },
  {
   "cell_type": "code",
   "execution_count": null,
   "id": "98cd269e-8dda-4e40-b487-1ac1b94ef904",
   "metadata": {},
   "outputs": [],
   "source": [
    "wandb.save(model_file_path)\n",
    "wandb.save(\"submission.csv\")\n",
    "wandb.save(\"train.ipynb\")"
   ]
  }
 ],
 "metadata": {
  "kernelspec": {
   "display_name": "Python 3.9.12 ('pytorch_junsheng_39': conda)",
   "language": "python",
   "name": "python3"
  },
  "language_info": {
   "codemirror_mode": {
    "name": "ipython",
    "version": 3
   },
   "file_extension": ".py",
   "mimetype": "text/x-python",
   "name": "python",
   "nbconvert_exporter": "python",
   "pygments_lexer": "ipython3",
   "version": "3.9.12"
  },
  "vscode": {
   "interpreter": {
    "hash": "29fd19f11c6b89e267402bb3227bc1208f7e2c9719aa03eba13baf7684fe5867"
   }
  }
 },
 "nbformat": 4,
 "nbformat_minor": 5
}
