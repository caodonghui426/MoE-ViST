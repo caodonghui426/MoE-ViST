{
 "cells": [
  {
   "cell_type": "markdown",
   "metadata": {},
   "source": [
    "# 用来下载图片的脚本"
   ]
  },
  {
   "cell_type": "code",
   "execution_count": 1,
   "metadata": {},
   "outputs": [],
   "source": [
    "import pandas as pd\n",
    "import numpy as np\n",
    "import wget\n",
    "import threading\n",
    "import os"
   ]
  },
  {
   "cell_type": "code",
   "execution_count": 2,
   "metadata": {},
   "outputs": [
    {
     "name": "stdout",
     "output_type": "stream",
     "text": [
      "thread LoopThread 0 is running...\n",
      "thread LoopThread 1 is running...\n",
      "thread LoopThread 2 is running...\n",
      "thread LoopThread 3 is running...\n",
      "thread LoopThread 4 is running...\n",
      "thread LoopThread 5 is running...\n",
      "thread LoopThread 6 is running...\n",
      "thread LoopThread 7 is running...\n",
      "thread LoopThread 8 is running...\n",
      "thread LoopThread 9 is running...\n",
      "thread LoopThread 10 is running...\n",
      "thread LoopThread 11 is running...\n",
      "thread LoopThread 12 is running...\n",
      "thread LoopThread 13 is running...\n",
      "thread LoopThread 14 is running...\n",
      "thread LoopThread 15 is running...\n",
      "thread LoopThread 16 is running...\n",
      "thread LoopThread 17 is running...\n",
      "thread LoopThread 18 is running...\n",
      "thread LoopThread 19 is running...\n",
      "thread LoopThread 13 is end...\n"
     ]
    }
   ],
   "source": [
    "\n",
    "file = \"test.csv\"\n",
    "# path = \"xiangguan/pic/\"\n",
    "path = \"/home/junsheng/data/xiangguan/pic/\"\n",
    "thread_num = 20\n",
    "data = pd.read_csv(file)\n",
    "data.drop_duplicates(subset=[\"url\"],keep=\"first\", inplace=True)\n",
    "data = data['url']\n",
    "urls = []\n",
    "for url in data:\n",
    "    urls.append(url)\n",
    "def download(url):\n",
    "    file_name = url.split(\"/\")[-1]\n",
    "    if os.path.isfile(os.path.join(path, file_name)):\n",
    "        return\n",
    "    wget.download(url, path)\n",
    "    print(url)\n",
    "\n",
    "# for url in data:\n",
    "\n",
    "already_lock = set()\n",
    "lock = threading.Lock()\n",
    "def loop(imgs):\n",
    "    print ('thread %s is running...' % threading.current_thread().name)\n",
    "\n",
    "    while True:\n",
    "        try:\n",
    "            # with lock:\n",
    "            lock.acquire()\n",
    "            img_url = next(imgs)\n",
    "            while img_url in already_lock:\n",
    "                img_url = next(imgs)\n",
    "            already_lock.add(img_url)\n",
    "            lock.release()\n",
    "        except StopIteration:\n",
    "            break\n",
    "        try:\n",
    "            download(img_url)\n",
    "            \n",
    "        except:\n",
    "            print ('exceptfail\\t%s' % img_url)\n",
    "    print ('thread %s is end...' % threading.current_thread().name)\n",
    "threads = []\n",
    "for i in range(0, thread_num):\n",
    "    t = threading.Thread(target=loop, name='LoopThread %s' % i, args=(iter(urls),))\n",
    "    t.start()\n",
    "    threads.append(t)\n",
    "# 等待所有线程完成\n",
    "for thread in threads:\n",
    "    thread.join()\n",
    " \n",
    "print(\"\\nExiting the Program!!!\")"
   ]
  }
 ],
 "metadata": {
  "kernelspec": {
   "display_name": "Python 3.9.12 ('pytorch_junsheng_39')",
   "language": "python",
   "name": "python3"
  },
  "language_info": {
   "codemirror_mode": {
    "name": "ipython",
    "version": 3
   },
   "file_extension": ".py",
   "mimetype": "text/x-python",
   "name": "python",
   "nbconvert_exporter": "python",
   "pygments_lexer": "ipython3",
   "version": "3.9.12"
  },
  "orig_nbformat": 4,
  "vscode": {
   "interpreter": {
    "hash": "29fd19f11c6b89e267402bb3227bc1208f7e2c9719aa03eba13baf7684fe5867"
   }
  }
 },
 "nbformat": 4,
 "nbformat_minor": 2
}
